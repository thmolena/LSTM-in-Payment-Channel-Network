{
  "cells": [
    {
      "cell_type": "markdown",
      "metadata": {
        "id": "bgc8yb4c2W0g"
      },
      "source": [
        "# Recurrent Neural Network - LSTM\n"
      ]
    },
    {
      "cell_type": "markdown",
      "metadata": {
        "id": "aew2N81e35Uc"
      },
      "source": [
        "## Part 1 - Data Preprocessing\n",
        "\n",
        "---\n",
        "\n"
      ]
    },
    {
      "cell_type": "markdown",
      "metadata": {
        "id": "Z0vulSxH2hHu"
      },
      "source": [
        "### Import the libraries"
      ]
    },
    {
      "cell_type": "code",
      "execution_count": 1,
      "metadata": {
        "id": "p2SjiqlE2O08"
      },
      "outputs": [],
      "source": [
        "import numpy as np\n",
        "import matplotlib.pyplot as plt\n",
        "import pandas as pd\n",
        "\n",
        "import math\n",
        "from keras.models import Sequential\n",
        "from keras.layers import Dense, LSTM, GRU, Dropout\n",
        "from sklearn.metrics import mean_absolute_error, mean_squared_error\n",
        "from sklearn import preprocessing\n",
        "#from lifelines.utils import concordance_index\n",
        "\n",
        "from keras.layers import Dense, Activation, LSTM\n",
        "from keras.layers import  Dropout\n",
        "from keras import regularizers\n",
        "from keras import backend as tf\n",
        "\n",
        "import keras.backend as K\n",
        "import seaborn as sns\n",
        "from keras.callbacks import LearningRateScheduler\n",
        "from keras.callbacks import ModelCheckpoint\n",
        "from keras.layers import *\n",
        "\n",
        "\n",
        "import sys, time, random, json, pickle, itertools\n",
        "import networkx as nx\n",
        "import matplotlib\n",
        "import scipy.stats\n",
        "from sklearn.neighbors import KernelDensity\n",
        "import statsmodels.stats.correlation_tools as stm\n",
        "from scipy.stats import norm\n",
        "\n",
        "import torch, torchvision\n",
        "from sklearn.preprocessing import MinMaxScaler\n",
        "np.random.seed(12345678)"
      ]
    },
    {
      "cell_type": "markdown",
      "metadata": {
        "id": "36Q16Udt2l3W"
      },
      "source": [
        "### Import the database"
      ]
    },
    {
      "cell_type": "code",
      "execution_count": 2,
      "metadata": {
        "colab": {
          "base_uri": "https://localhost:8080/"
        },
        "id": "or7UuAX_PgCb",
        "outputId": "35c2541f-9187-45b0-849b-5f9975e392c4"
      },
      "outputs": [
        {
          "output_type": "stream",
          "name": "stdout",
          "text": [
            "Mounted at /content/drive\n"
          ]
        }
      ],
      "source": [
        "from google.colab import drive\n",
        "drive.mount('/content/drive',force_remount=True)\n",
        "\n",
        "import os\n",
        "workdir_path = '/content/drive/MyDrive/Summer 2022 RA'\n",
        "os.chdir(workdir_path)"
      ]
    },
    {
      "cell_type": "code",
      "execution_count": 3,
      "metadata": {
        "colab": {
          "base_uri": "https://localhost:8080/"
        },
        "id": "1ivhnWxD2eEG",
        "outputId": "4b495ab2-b16a-4ce5-ceaf-3590544f8620"
      },
      "outputs": [
        {
          "output_type": "stream",
          "name": "stdout",
          "text": [
            "Number of non-existent files: 0\n"
          ]
        }
      ],
      "source": [
        "# Define data files\n",
        "datadir = 'dataverse_files/'\n",
        "datafn_tmpl = datadir + 'sms-call-internet-mi-%4d-%02d-%02d.txt'\n",
        "datafn_idxs = [ (2013, 11, i) for i in range(1,5) ]  #+ [ (2013, 12, i) for i in range(1, 32) ] + [ (2014, 1, 1) ]\n",
        "datafns = [ datafn_tmpl % x for x in datafn_idxs ]\n",
        "print(\"Number of non-existent files:\", sum([ not os.path.exists(fn) for fn in datafns ]))\n",
        "outfn = datadir[:-1] + '-internet.csv'\n",
        "\n",
        "# dataset_train = pd.read_csv('train.csv')\n",
        "# training_set = dataset_train.iloc[:, 1:2].values #only column of the series itself"
      ]
    },
    {
      "cell_type": "code",
      "execution_count": 5,
      "metadata": {
        "id": "wkOaBKB5xuts"
      },
      "outputs": [],
      "source": [
        "# Pick the data files to index\n",
        "fns = datafns#[:10]"
      ]
    },
    {
      "cell_type": "code",
      "source": [],
      "metadata": {
        "id": "rEkC6jvzFia2"
      },
      "execution_count": 5,
      "outputs": []
    },
    {
      "cell_type": "markdown",
      "metadata": {
        "id": "fIKzwwumFPG0"
      },
      "source": [
        "### Read and Preprocess Data (Save to CSV)"
      ]
    },
    {
      "cell_type": "code",
      "execution_count": 6,
      "metadata": {
        "id": "z12MQj__x28y"
      },
      "outputs": [],
      "source": [
        "data = pd.DataFrame()\n",
        "for fn in fns:\n",
        "    #print('Reading file ', fn, ' ...')\n",
        "    df = pd.read_csv(fn, sep=\"\\t\", header=None, names=['grid', 'time', 'country', 'sms-in', 'sms-out', 'call-in', 'call-out', 'internet'])\n",
        "    df = df[ df['country'] == 39 ].drop(columns=['country', 'sms-in', 'sms-out', 'call-in', 'call-out']).fillna(0)\n",
        "    data = pd.concat([ data, df ])\n",
        "data = data.sort_values(by=['time', 'grid']).reset_index(drop=True)"
      ]
    },
    {
      "cell_type": "code",
      "execution_count": 7,
      "metadata": {
        "colab": {
          "base_uri": "https://localhost:8080/"
        },
        "id": "cJk5D6IXx3GS",
        "outputId": "f570f00e-d7bf-494d-8759-381b0077c8ed"
      },
      "outputs": [
        {
          "output_type": "stream",
          "name": "stdout",
          "text": [
            "# 10min slots: 576\n",
            "Mean internet: 61.471731830821824\n",
            "(Min, 5%, 25%, median, 75%, 95%, max) internet:\n",
            "(0.0, 2.969617072813118, 10.982975646323265, 27.925311205624425, 65.51675429623229, 235.37264641289994, 7936.265379884158)\n"
          ]
        }
      ],
      "source": [
        "# Statistics of the dataset\n",
        "print(\"# 10min slots:\", len(data['time'].unique()) )\n",
        "print(\"Mean internet:\", data['internet'].mean())\n",
        "print(\"(Min, 5%, 25%, median, 75%, 95%, max) internet:\")\n",
        "print( ( data['internet'].min(), data['internet'].quantile(0.05), data['internet'].quantile(0.25), data['internet'].median(), data['internet'].quantile(0.75), data['internet'].quantile(0.95), data['internet'].max() )  )"
      ]
    },
    {
      "cell_type": "code",
      "execution_count": 8,
      "metadata": {
        "id": "w0wDDlnMx3Lg"
      },
      "outputs": [],
      "source": [
        "data.to_csv(outfn)"
      ]
    },
    {
      "cell_type": "markdown",
      "metadata": {
        "id": "NHKE7FzDFTs7"
      },
      "source": [
        "### Load Data"
      ]
    },
    {
      "cell_type": "code",
      "execution_count": 9,
      "metadata": {
        "colab": {
          "base_uri": "https://localhost:8080/"
        },
        "id": "efc_FSe8z9go",
        "outputId": "7d9513b1-3407-4342-bc53-1da0aab06b1d"
      },
      "outputs": [
        {
          "output_type": "stream",
          "name": "stdout",
          "text": [
            "# 10min slots: 576\n"
          ]
        }
      ],
      "source": [
        "data = pd.read_csv(outfn, index_col=0)\n",
        "print(\"# 10min slots:\", len(data['time'].unique()) )"
      ]
    },
    {
      "cell_type": "code",
      "execution_count": 10,
      "metadata": {
        "id": "0EFoC5HKz9yV"
      },
      "outputs": [],
      "source": [
        "# Find a grid with the maximum total demand for the prediction task\n",
        "max_dmd_grid = sorted([ ( data[ data['grid']==i ]['internet'].sum(), i ) for i in range(1, 10001) ])\n",
        "max_dmd_grid = list(reversed(max_dmd_grid))\n",
        "gridx = max_dmd_grid[0][1]\n",
        "#max_dmd_grid[:30]"
      ]
    },
    {
      "cell_type": "code",
      "execution_count": 11,
      "metadata": {
        "id": "UmfS_pv2z-BO"
      },
      "outputs": [],
      "source": [
        "datax = data[ data['grid'] == gridx ].reset_index(drop=True)"
      ]
    },
    {
      "cell_type": "code",
      "source": [],
      "metadata": {
        "id": "0nFA3LmIVP0r"
      },
      "execution_count": 11,
      "outputs": []
    },
    {
      "cell_type": "code",
      "execution_count": 12,
      "metadata": {
        "colab": {
          "base_uri": "https://localhost:8080/",
          "height": 447
        },
        "id": "EArHjiRKDQfU",
        "outputId": "858e9a20-c6c6-433c-c4d4-c987fbe682ba"
      },
      "outputs": [
        {
          "output_type": "execute_result",
          "data": {
            "text/plain": [
              "<Axes: >"
            ]
          },
          "metadata": {},
          "execution_count": 12
        },
        {
          "output_type": "display_data",
          "data": {
            "text/plain": [
              "<Figure size 640x480 with 1 Axes>"
            ],
            "image/png": "[encoded data removed]"
          },
          "metadata": {}
        }
      ],
      "source": [
        "# Plot the data\n",
        "datax['internet'].plot()"
      ]
    },
    {
      "cell_type": "markdown",
      "metadata": {
        "id": "kDWi2tKPowq5"
      },
      "source": [
        "### Learning and Prediction"
      ]
    },
    {
      "cell_type": "markdown",
      "metadata": {
        "id": "hqFSFJV0FqV4"
      },
      "source": [
        "### Preparing data"
      ]
    },
    {
      "cell_type": "code",
      "execution_count": 13,
      "metadata": {
        "colab": {
          "base_uri": "https://localhost:8080/"
        },
        "id": "JJ3J07dWFso3",
        "outputId": "2eea248f-ecd6-4909-cd42-54dc510e359a"
      },
      "outputs": [
        {
          "output_type": "stream",
          "name": "stdout",
          "text": [
            "Train size: 384 Test size: 192\n"
          ]
        }
      ],
      "source": [
        "# Parameters\n",
        "total_size = len(datax.index)\n",
        "train_size = int(total_size * 2 / 3)\n",
        "test_size = total_size - train_size\n",
        "print(\"Train size:\", train_size, \"Test size:\", test_size)"
      ]
    },
    {
      "cell_type": "code",
      "execution_count": 14,
      "metadata": {
        "id": "vFYH9SMrFsxX"
      },
      "outputs": [],
      "source": [
        "# Train/test split\n",
        "#x = datax['internet'].to_numpy()\n",
        "\n",
        "train = datax[:train_size]\n",
        "test = datax[train_size:]\n",
        "dataset_train = train\n",
        "training_set = dataset_train.iloc[:, 2:3].values"
      ]
    },
    {
      "cell_type": "markdown",
      "metadata": {
        "id": "kd39T1zK2ql1"
      },
      "source": [
        "### Time Series Graph"
      ]
    },
    {
      "cell_type": "code",
      "execution_count": 15,
      "metadata": {
        "colab": {
          "base_uri": "https://localhost:8080/",
          "height": 472
        },
        "id": "vMsAFuya2rhr",
        "outputId": "20c0fea8-44db-4aa5-c946-d6a6c16501a4"
      },
      "outputs": [
        {
          "output_type": "display_data",
          "data": {
            "text/plain": [
              "<Figure size 640x480 with 1 Axes>"
            ],
            "image/png": "[encoded data removed]"
          },
          "metadata": {}
        }
      ],
      "source": [
        "plt.plot(training_set)\n",
        "plt.xlabel(\"Time\")\n",
        "plt.ylabel(\"Internet\")\n",
        "plt.title(\"Time Series Graph\")\n",
        "plt.show()\n",
        "\n",
        "# plt.plot(datax['internet'])\n",
        "# plt.xlabel(\"Time\")\n",
        "# plt.ylabel(\"Internet\")\n",
        "# plt.title(\"Time Series Graph\")\n",
        "# plt.show()"
      ]
    },
    {
      "cell_type": "markdown",
      "metadata": {
        "id": "7p1F7HdB2uJU"
      },
      "source": [
        "### Normalization\n",
        "\n"
      ]
    },
    {
      "cell_type": "code",
      "execution_count": 16,
      "metadata": {
        "id": "foeHRZr-2u-L"
      },
      "outputs": [],
      "source": [
        "from sklearn.preprocessing import MinMaxScaler\n",
        "sc = MinMaxScaler(feature_range = (0, 1))\n",
        "training_set_scaled = sc.fit_transform(training_set)"
      ]
    },
    {
      "cell_type": "markdown",
      "metadata": {
        "id": "uQP8Q7MI21Y9"
      },
      "source": [
        "### Create the data structure with window 15 and output 1"
      ]
    },
    {
      "cell_type": "code",
      "execution_count": 17,
      "metadata": {
        "id": "C6Ge9ql922cb"
      },
      "outputs": [],
      "source": [
        "window = 144\n",
        "trainSize = len(training_set_scaled)\n",
        "X_train = []\n",
        "y_train = []\n",
        "for i in range(window, trainSize):\n",
        "    X_train.append(training_set_scaled[i-window:i, 0])\n",
        "    y_train.append(training_set_scaled[i, 0])\n",
        "X_train, y_train = np.array(X_train), np.array(y_train)"
      ]
    },
    {
      "cell_type": "markdown",
      "metadata": {
        "id": "LPBC2LoG24dU"
      },
      "source": [
        "### Reshaping"
      ]
    },
    {
      "cell_type": "code",
      "execution_count": 18,
      "metadata": {
        "colab": {
          "base_uri": "https://localhost:8080/"
        },
        "id": "oGwgQUDbdmnS",
        "outputId": "ac63ff0a-8d21-49b6-a9ef-31dacfb17fa3"
      },
      "outputs": [
        {
          "output_type": "execute_result",
          "data": {
            "text/plain": [
              "(240, 144)"
            ]
          },
          "metadata": {},
          "execution_count": 18
        }
      ],
      "source": [
        "X_train.shape"
      ]
    },
    {
      "cell_type": "code",
      "execution_count": 19,
      "metadata": {
        "id": "b9ZfLlGH25fr"
      },
      "outputs": [],
      "source": [
        "X_train = np.reshape(X_train, (X_train.shape[0], X_train.shape[1], 1))"
      ]
    },
    {
      "cell_type": "code",
      "execution_count": 20,
      "metadata": {
        "colab": {
          "base_uri": "https://localhost:8080/"
        },
        "id": "RxU0axM9diHO",
        "outputId": "0d0ed0be-b5f3-4e04-f50a-f8bf1261116f"
      },
      "outputs": [
        {
          "output_type": "execute_result",
          "data": {
            "text/plain": [
              "(240, 144, 1)"
            ]
          },
          "metadata": {},
          "execution_count": 20
        }
      ],
      "source": [
        "X_train.shape"
      ]
    },
    {
      "cell_type": "markdown",
      "metadata": {
        "id": "fZhjp7Tf282b"
      },
      "source": [
        "## Part 2 - Construction of the RNN"
      ]
    },
    {
      "cell_type": "markdown",
      "metadata": {
        "id": "kordpD0_3H7b"
      },
      "source": [
        "### Construction of the complete network"
      ]
    },
    {
      "cell_type": "code",
      "execution_count": 21,
      "metadata": {
        "colab": {
          "base_uri": "https://localhost:8080/"
        },
        "id": "EskB17uo3Iso",
        "outputId": "f4fe91ea-8991-4229-94d2-05afc1efdc5c"
      },
      "outputs": [
        {
          "output_type": "stream",
          "name": "stderr",
          "text": [
            "WARNING:tensorflow:Layer lstm will not use cuDNN kernels since it doesn't meet the criteria. It will use a generic GPU kernel as fallback when running on GPU.\n",
            "WARNING:tensorflow:Layer lstm_1 will not use cuDNN kernels since it doesn't meet the criteria. It will use a generic GPU kernel as fallback when running on GPU.\n",
            "WARNING:tensorflow:Layer lstm_2 will not use cuDNN kernels since it doesn't meet the criteria. It will use a generic GPU kernel as fallback when running on GPU.\n",
            "WARNING:tensorflow:Layer lstm_3 will not use cuDNN kernels since it doesn't meet the criteria. It will use a generic GPU kernel as fallback when running on GPU.\n"
          ]
        },
        {
          "output_type": "stream",
          "name": "stdout",
          "text": [
            "Model: \"sequential\"\n",
            "_________________________________________________________________\n",
            " Layer (type)                Output Shape              Param #   \n",
            "=================================================================\n",
            " lstm (LSTM)                 (None, 144, 60)           14880     \n",
            "                                                                 \n",
            " lstm_1 (LSTM)               (None, 144, 60)           29040     \n",
            "                                                                 \n",
            " lstm_2 (LSTM)               (None, 144, 40)           16160     \n",
            "                                                                 \n",
            " lstm_3 (LSTM)               (None, 40)                12960     \n",
            "                                                                 \n",
            " dense (Dense)               (None, 1)                 41        \n",
            "                                                                 \n",
            "=================================================================\n",
            "Total params: 73081 (285.47 KB)\n",
            "Trainable params: 73081 (285.47 KB)\n",
            "Non-trainable params: 0 (0.00 Byte)\n",
            "_________________________________________________________________\n"
          ]
        }
      ],
      "source": [
        "# Initialize the RNN\n",
        "\n",
        "\n",
        "\n",
        "\n",
        "\n",
        "regressor = Sequential()\n",
        "regressor.add(LSTM(units=60, activation = 'relu',return_sequences=True, input_shape= (X_train.shape[1],1)))\n",
        "regressor.add(LSTM(units=60, activation = 'relu', return_sequences = True))\n",
        "\n",
        "regressor.add(LSTM(units=40, activation = 'relu',return_sequences = True))\n",
        "\n",
        "regressor.add(LSTM(units=40, activation = 'relu',return_sequences = False))\n",
        "regressor.add(Dense(units = 1))\n",
        "\n",
        "# Compile the network\n",
        "regressor.compile(loss='mean_squared_error',optimizer='adam', metrics=['accuracy'])\n",
        "\n",
        "# Summarize the network\n",
        "regressor.summary()"
      ]
    },
    {
      "cell_type": "markdown",
      "metadata": {
        "id": "5j1w28g83iSR"
      },
      "source": [
        "### Training"
      ]
    },
    {
      "cell_type": "code",
      "execution_count": 22,
      "metadata": {
        "colab": {
          "base_uri": "https://localhost:8080/"
        },
        "id": "xWKAuKyp3jXv",
        "outputId": "86afeff5-33d9-42cb-8c19-aff432bb4673"
      },
      "outputs": [
        {
          "output_type": "stream",
          "name": "stdout",
          "text": [
            "Epoch 1/50\n",
            "35/35 [==============================] - 46s 1000ms/step - loss: 0.0626 - accuracy: 0.0000e+00\n",
            "Epoch 2/50\n",
            "35/35 [==============================] - 37s 1s/step - loss: 0.0230 - accuracy: 0.0000e+00\n",
            "Epoch 3/50\n",
            "35/35 [==============================] - 33s 951ms/step - loss: 0.0095 - accuracy: 0.0000e+00\n",
            "Epoch 4/50\n",
            "35/35 [==============================] - 35s 996ms/step - loss: 0.0069 - accuracy: 0.0042\n",
            "Epoch 5/50\n",
            "35/35 [==============================] - 33s 945ms/step - loss: 0.0089 - accuracy: 0.0000e+00\n",
            "Epoch 6/50\n",
            "35/35 [==============================] - 35s 1s/step - loss: 0.0061 - accuracy: 0.0042\n",
            "Epoch 7/50\n",
            "35/35 [==============================] - 33s 948ms/step - loss: 0.0042 - accuracy: 0.0042\n",
            "Epoch 8/50\n",
            "35/35 [==============================] - 33s 956ms/step - loss: 0.0037 - accuracy: 0.0042\n",
            "Epoch 9/50\n",
            "35/35 [==============================] - 34s 951ms/step - loss: 0.0054 - accuracy: 0.0042\n",
            "Epoch 10/50\n",
            "35/35 [==============================] - 32s 931ms/step - loss: 0.0036 - accuracy: 0.0042\n",
            "Epoch 11/50\n",
            "35/35 [==============================] - 35s 997ms/step - loss: 0.0036 - accuracy: 0.0042\n",
            "Epoch 12/50\n",
            "35/35 [==============================] - 33s 930ms/step - loss: 0.0033 - accuracy: 0.0042\n",
            "Epoch 13/50\n",
            "35/35 [==============================] - 35s 1s/step - loss: 0.0027 - accuracy: 0.0042\n",
            "Epoch 14/50\n",
            "35/35 [==============================] - 33s 935ms/step - loss: 0.0025 - accuracy: 0.0042\n",
            "Epoch 15/50\n",
            "35/35 [==============================] - 35s 992ms/step - loss: 0.0038 - accuracy: 0.0042\n",
            "Epoch 16/50\n",
            "35/35 [==============================] - 32s 929ms/step - loss: 0.0029 - accuracy: 0.0042\n",
            "Epoch 17/50\n",
            "35/35 [==============================] - 32s 928ms/step - loss: 0.0025 - accuracy: 0.0042\n",
            "Epoch 18/50\n",
            "35/35 [==============================] - 35s 959ms/step - loss: 0.0033 - accuracy: 0.0042\n",
            "Epoch 19/50\n",
            "35/35 [==============================] - 33s 937ms/step - loss: 0.0028 - accuracy: 0.0042\n",
            "Epoch 20/50\n",
            "35/35 [==============================] - 35s 995ms/step - loss: 0.0027 - accuracy: 0.0042\n",
            "Epoch 21/50\n",
            "35/35 [==============================] - 33s 933ms/step - loss: 0.0024 - accuracy: 0.0042\n",
            "Epoch 22/50\n",
            "35/35 [==============================] - 35s 1s/step - loss: 0.0030 - accuracy: 0.0042\n",
            "Epoch 23/50\n",
            "35/35 [==============================] - 33s 934ms/step - loss: 0.0024 - accuracy: 0.0042\n",
            "Epoch 24/50\n",
            "35/35 [==============================] - 35s 1s/step - loss: 0.0026 - accuracy: 0.0042\n",
            "Epoch 25/50\n",
            "35/35 [==============================] - 33s 958ms/step - loss: 0.0039 - accuracy: 0.0042\n",
            "Epoch 26/50\n",
            "35/35 [==============================] - 35s 1000ms/step - loss: 0.0024 - accuracy: 0.0042\n",
            "Epoch 27/50\n",
            "35/35 [==============================] - 32s 926ms/step - loss: 0.0027 - accuracy: 0.0042\n",
            "Epoch 28/50\n",
            "35/35 [==============================] - 34s 985ms/step - loss: 0.0024 - accuracy: 0.0042\n",
            "Epoch 29/50\n",
            "35/35 [==============================] - 33s 936ms/step - loss: 0.0025 - accuracy: 0.0042\n",
            "Epoch 30/50\n",
            "35/35 [==============================] - 35s 1000ms/step - loss: 0.0025 - accuracy: 0.0042\n",
            "Epoch 31/50\n",
            "35/35 [==============================] - 32s 927ms/step - loss: 0.0028 - accuracy: 0.0042\n",
            "Epoch 32/50\n",
            "35/35 [==============================] - 34s 971ms/step - loss: 0.0027 - accuracy: 0.0042\n",
            "Epoch 33/50\n",
            "35/35 [==============================] - 36s 999ms/step - loss: 0.0023 - accuracy: 0.0042\n",
            "Epoch 34/50\n",
            "35/35 [==============================] - 38s 1s/step - loss: 0.0029 - accuracy: 0.0042\n",
            "Epoch 35/50\n",
            "35/35 [==============================] - 38s 1s/step - loss: 0.0026 - accuracy: 0.0042\n",
            "Epoch 36/50\n",
            "35/35 [==============================] - 39s 1s/step - loss: 0.0025 - accuracy: 0.0042\n",
            "Epoch 37/50\n",
            "35/35 [==============================] - 40s 1s/step - loss: 0.0032 - accuracy: 0.0042\n",
            "Epoch 38/50\n",
            "35/35 [==============================] - 39s 1s/step - loss: 0.0022 - accuracy: 0.0042\n",
            "Epoch 39/50\n",
            "35/35 [==============================] - 36s 1s/step - loss: 0.0030 - accuracy: 0.0042\n",
            "Epoch 40/50\n",
            "35/35 [==============================] - 37s 1s/step - loss: 0.0023 - accuracy: 0.0042\n",
            "Epoch 41/50\n",
            "35/35 [==============================] - 37s 1s/step - loss: 0.0027 - accuracy: 0.0042\n",
            "Epoch 42/50\n",
            "35/35 [==============================] - 34s 974ms/step - loss: 0.0031 - accuracy: 0.0042\n",
            "Epoch 43/50\n",
            "35/35 [==============================] - 35s 1s/step - loss: 0.0025 - accuracy: 0.0042\n",
            "Epoch 44/50\n",
            "35/35 [==============================] - 34s 967ms/step - loss: 0.0034 - accuracy: 0.0042\n",
            "Epoch 45/50\n",
            "35/35 [==============================] - 35s 999ms/step - loss: 0.0025 - accuracy: 0.0042\n",
            "Epoch 46/50\n",
            "35/35 [==============================] - 32s 930ms/step - loss: 0.0023 - accuracy: 0.0042\n",
            "Epoch 47/50\n",
            "35/35 [==============================] - 34s 988ms/step - loss: 0.0027 - accuracy: 0.0042\n",
            "Epoch 48/50\n",
            "35/35 [==============================] - 32s 928ms/step - loss: 0.0023 - accuracy: 0.0042\n",
            "Epoch 49/50\n",
            "35/35 [==============================] - 33s 939ms/step - loss: 0.0023 - accuracy: 0.0042\n",
            "Epoch 50/50\n",
            "35/35 [==============================] - 34s 933ms/step - loss: 0.0023 - accuracy: 0.0042\n"
          ]
        },
        {
          "output_type": "execute_result",
          "data": {
            "text/plain": [
              "<keras.src.callbacks.History at 0x7d3bf817fcd0>"
            ]
          },
          "metadata": {},
          "execution_count": 22
        }
      ],
      "source": [
        "regressor.fit(X_train, y_train, epochs = 50, batch_size = 7)\n"
      ]
    },
    {
      "cell_type": "markdown",
      "metadata": {
        "id": "gwpyImwA3yon"
      },
      "source": [
        "## Part 3 - Making predictions and analyzing the results"
      ]
    },
    {
      "cell_type": "markdown",
      "metadata": {
        "id": "wkXRvDjT4V-B"
      },
      "source": [
        "### Test base"
      ]
    },
    {
      "cell_type": "code",
      "execution_count": 39,
      "metadata": {
        "id": "Bn_n72dh30K-"
      },
      "outputs": [],
      "source": [
        "dataset_test = test\n",
        "test_pul = dataset_test.iloc[:, 2:3].values"
      ]
    },
    {
      "cell_type": "markdown",
      "metadata": {
        "id": "EOo84exH4bfs"
      },
      "source": [
        "### Build the framework for testing"
      ]
    },
    {
      "cell_type": "code",
      "execution_count": 40,
      "metadata": {
        "id": "ob_-mGA_B5px"
      },
      "outputs": [],
      "source": [
        "dataset_total = pd.concat((dataset_train.iloc[:,2], dataset_test.iloc[:,2]), axis = 0)\n",
        "\n",
        "testLength = len(dataset_test)\n",
        "inputs = dataset_total[len(dataset_total) - testLength - window:].values\n",
        "inputs = inputs.reshape(inputs.shape[0],1)\n",
        "\n",
        "inputs = sc.transform(inputs)\n",
        "X_test = []\n",
        "for i in range(window, inputs.shape[0]):\n",
        "    X_test.append(inputs[i-window:i, 0])\n",
        "X_test = np.array(X_test)\n",
        "\n",
        "X_test = np.reshape(X_test, (X_test.shape[0], X_test.shape[1], 1))"
      ]
    },
    {
      "cell_type": "markdown",
      "metadata": {
        "id": "rtkB4NA74e1B"
      },
      "source": [
        "### Make the predictions\n"
      ]
    },
    {
      "cell_type": "code",
      "execution_count": 41,
      "metadata": {
        "id": "nKIq1h-E4g9Z",
        "colab": {
          "base_uri": "https://localhost:8080/"
        },
        "outputId": "899dcf1a-0774-43f2-8d02-ad1d8fb85777"
      },
      "outputs": [
        {
          "output_type": "stream",
          "name": "stdout",
          "text": [
            "6/6 [==============================] - 0s 78ms/step\n"
          ]
        }
      ],
      "source": [
        "predicted = regressor.predict(X_test)\n",
        "regressor.save_weights('weightsfile_gru.h5')\n",
        "regressor.load_weights('weightsfile_gru.h5')\n",
        "#existingModel.load_weights('weightsfile.h5')\n",
        "predicted = sc.inverse_transform(predicted)"
      ]
    },
    {
      "cell_type": "code",
      "execution_count": 42,
      "metadata": {
        "id": "whWS4bp6SbjG"
      },
      "outputs": [],
      "source": [
        "# print(len(predictions))\n",
        "# print(predictions.shape)"
      ]
    },
    {
      "cell_type": "code",
      "execution_count": 43,
      "metadata": {
        "id": "V9hjqenMTnBp"
      },
      "outputs": [],
      "source": [
        "# x = np.arange(test_size)"
      ]
    },
    {
      "cell_type": "markdown",
      "metadata": {
        "id": "guvk7yXr4o0g"
      },
      "source": [
        "### Visualization of training and test results"
      ]
    },
    {
      "cell_type": "code",
      "execution_count": 44,
      "metadata": {
        "id": "QZYy5UtjTmV0"
      },
      "outputs": [],
      "source": [
        "# plt.title('Time slot vs mobile traffic')\n",
        "# plt.ylabel('Internet traffic')\n",
        "# plt.grid(True)\n",
        "# plt.autoscale(axis='x', tight=True)\n",
        "# plt.plot(test)\n",
        "# plt.plot(x,predictions)\n",
        "# plt.show()"
      ]
    },
    {
      "cell_type": "code",
      "execution_count": 45,
      "metadata": {
        "id": "tstXl2oS4rIo",
        "colab": {
          "base_uri": "https://localhost:8080/",
          "height": 920
        },
        "outputId": "6f41d13a-f270-4aa4-a31d-515248714f4c"
      },
      "outputs": [
        {
          "output_type": "stream",
          "name": "stdout",
          "text": [
            "8/8 [==============================] - 1s 83ms/step\n"
          ]
        },
        {
          "output_type": "display_data",
          "data": {
            "text/plain": [
              "<Figure size 640x480 with 1 Axes>"
            ],
            "image/png": "[encoded data removed]"
          },
          "metadata": {}
        },
        {
          "output_type": "execute_result",
          "data": {
            "text/plain": [
              "<matplotlib.collections.PolyCollection at 0x7d3b8acb5540>"
            ]
          },
          "metadata": {},
          "execution_count": 45
        },
        {
          "output_type": "display_data",
          "data": {
            "text/plain": [
              "<Figure size 640x480 with 1 Axes>"
            ],
            "image/png": "[encoded data removed]"
          },
          "metadata": {}
        }
      ],
      "source": [
        "allTargetData = np.vstack((training_set, test_pul))\n",
        "training_predicted = regressor.predict(X_train)\n",
        "training_predicted = sc.inverse_transform(training_predicted)\n",
        "allForecastedData = np.vstack((training_set[0:window], training_predicted, predicted))\n",
        "plt.plot(allTargetData, color = 'red', label = 'Data')\n",
        "plt.plot(allForecastedData, color = 'blue', label = 'Prediction')\n",
        "plt.xlabel(\"Time\")\n",
        "plt.ylabel(\"Internet\")\n",
        "plt.title(\"Time Series Prediction\")\n",
        "plt.legend()\n",
        "plt.savefig('predictions_training_test.svg')\n",
        "plt.show()\n",
        "\n",
        "from matplotlib import pyplot as plt\n",
        "import numpy as np\n",
        "\n",
        "#some example data\n",
        "x = np.arange(test_size)\n",
        "# plt.title('Time slot vs mobile traffic')\n",
        "# plt.ylabel('Internet traffic')\n",
        "# plt.grid(True)\n",
        "# plt.autoscale(axis='x', tight=True)\n",
        "# plt.plot(test)\n",
        "# plt.plot(x,predictions)\n",
        "# plt.show()\n",
        "y = predicted.reshape(-1,)\n",
        "#some confidence interval\n",
        "ci = 1.96 * np.std(predicted)/np.sqrt(len(x))\n",
        "\n",
        "fig, ax = plt.subplots()\n",
        "ax.plot(x,test_pul.reshape(-1,),'r')\n",
        "ax.plot(x,y, 'b')\n",
        "ax.fill_between(x, (y-ci), (y+ci), color='b', alpha=.1)"
      ]
    },
    {
      "cell_type": "markdown",
      "metadata": {
        "id": "ytEVhQht4we3"
      },
      "source": [
        "## Part 4 - Evaluation Metrics\n"
      ]
    },
    {
      "cell_type": "code",
      "execution_count": 46,
      "metadata": {
        "id": "rqOonVj64ydu",
        "colab": {
          "base_uri": "https://localhost:8080/"
        },
        "outputId": "55f61f10-4f3a-4f80-8648-8303df9c02d2"
      },
      "outputs": [
        {
          "output_type": "stream",
          "name": "stdout",
          "text": [
            "RMSE:  599.0250120681151\n"
          ]
        }
      ],
      "source": [
        "rmse = math.sqrt(mean_squared_error(test_pul, predicted))\n",
        "print('RMSE: ', rmse)"
      ]
    },
    {
      "cell_type": "code",
      "execution_count": 47,
      "metadata": {
        "id": "ODeley1K42WW",
        "colab": {
          "base_uri": "https://localhost:8080/"
        },
        "outputId": "80f9d1e2-47e0-4874-cab3-04b94c9058b4"
      },
      "outputs": [
        {
          "output_type": "stream",
          "name": "stdout",
          "text": [
            "MSE:  358830.96508320543\n"
          ]
        }
      ],
      "source": [
        "mse = mean_squared_error(test_pul, predicted)\n",
        "print('MSE: ',mse)"
      ]
    },
    {
      "cell_type": "code",
      "execution_count": 48,
      "metadata": {
        "id": "L7_uU_8T44QA",
        "colab": {
          "base_uri": "https://localhost:8080/"
        },
        "outputId": "b499dbae-4166-44c5-8437-5ea15b47814a"
      },
      "outputs": [
        {
          "output_type": "stream",
          "name": "stdout",
          "text": [
            "MAPE:  49.373312723399465 %\n"
          ]
        }
      ],
      "source": [
        "mape = np.mean(np.abs((test_pul - predicted) / test_pul)) * 100\n",
        "print('MAPE: ',mape, '%')"
      ]
    },
    {
      "cell_type": "code",
      "execution_count": 49,
      "metadata": {
        "id": "mgmtdSOq7rG0",
        "colab": {
          "base_uri": "https://localhost:8080/"
        },
        "outputId": "b8ec274f-cb90-4cb3-e3eb-a4a25994a377"
      },
      "outputs": [
        {
          "output_type": "stream",
          "name": "stdout",
          "text": [
            "MAE:  486.0122550112347\n"
          ]
        }
      ],
      "source": [
        "mae = mean_absolute_error(test_pul, predicted)\n",
        "print('MAE: ',mae)"
      ]
    },
    {
      "cell_type": "markdown",
      "metadata": {
        "id": "41RYx-Ds328e"
      },
      "source": [
        "### Statistics of the test results."
      ]
    },
    {
      "cell_type": "code",
      "execution_count": 50,
      "metadata": {
        "id": "IIJ7oEuf33Sx",
        "colab": {
          "base_uri": "https://localhost:8080/"
        },
        "outputId": "7e0d3c62-5083-4e00-9b80-1493b9f95f35"
      },
      "outputs": [
        {
          "output_type": "stream",
          "name": "stdout",
          "text": [
            "Total violations: [13] (6.77% of the test data points)\n"
          ]
        }
      ],
      "source": [
        "# Fraction of under-estimated demands\n",
        "violated = (predicted < test_pul)\n",
        "violations = (test_pul - predicted)[violated]\n",
        "print('Total violations:', sum(violated), '(%.2f%% of the test data points)' % (100*sum(violated)/test_size) )"
      ]
    },
    {
      "cell_type": "code",
      "execution_count": 51,
      "metadata": {
        "id": "0GOut1su39SM",
        "colab": {
          "base_uri": "https://localhost:8080/"
        },
        "outputId": "2f9f109a-2f62-4c87-bf0a-7aafd03960ee"
      },
      "outputs": [
        {
          "output_type": "stream",
          "name": "stdout",
          "text": [
            "Demand mean: 1460.177548950116\n",
            "Violation mean: 314.3365417145514\n",
            "Violation excess: 21.53%\n"
          ]
        }
      ],
      "source": [
        "print('Demand mean:', np.mean(test_pul))\n",
        "print('Violation mean:', np.mean( violations ) )\n",
        "print('Violation excess: %.2f%%' % (100 * np.mean( violations ) / np.mean(test_pul)) )"
      ]
    },
    {
      "cell_type": "code",
      "source": [
        "# Fraction of under-estimated demands\n",
        "violated = (predicted + ci < test_pul)\n",
        "violations = (test_pul - predicted - ci)[violated]\n",
        "print('Total violations:', sum(violated), '(%.2f%% of the test data points)' % (100*sum(violated)/test_size) )"
      ],
      "metadata": {
        "id": "9NPq_AlFO3pr",
        "colab": {
          "base_uri": "https://localhost:8080/"
        },
        "outputId": "2874c94e-a34e-4049-a9cc-575a3325e3f4"
      },
      "execution_count": 52,
      "outputs": [
        {
          "output_type": "stream",
          "name": "stdout",
          "text": [
            "Total violations: [7] (3.65% of the test data points)\n"
          ]
        }
      ]
    },
    {
      "cell_type": "code",
      "source": [
        "# from scipy import stats\n",
        "# from scipy.stats import norm"
      ],
      "metadata": {
        "id": "kBA7eeaRGPU2"
      },
      "execution_count": 53,
      "outputs": []
    },
    {
      "cell_type": "code",
      "source": [
        "# ci = stats.norm.interval(0.95,np.mean(predicted),np.std(predicted)/(1738**0.5))\n",
        "# print('95% CI is:',np.round(beml_ci,6))"
      ],
      "metadata": {
        "id": "humJf0yfGVSB"
      },
      "execution_count": 54,
      "outputs": []
    },
    {
      "cell_type": "code",
      "source": [],
      "metadata": {
        "id": "EyU-HZjHGZAa"
      },
      "execution_count": 54,
      "outputs": []
    },
    {
      "cell_type": "code",
      "source": [],
      "metadata": {
        "id": "WbquuVwaNNi7"
      },
      "execution_count": 54,
      "outputs": []
    },
    {
      "cell_type": "code",
      "source": [],
      "metadata": {
        "id": "Kui--f1yQEG7"
      },
      "execution_count": 38,
      "outputs": []
    }
  ],
  "metadata": {
    "accelerator": "GPU",
    "colab": {
      "provenance": []
    },
    "kernelspec": {
      "display_name": "Python 3",
      "language": "python",
      "name": "python3"
    }
  },
  "nbformat": 4,
  "nbformat_minor": 0
}