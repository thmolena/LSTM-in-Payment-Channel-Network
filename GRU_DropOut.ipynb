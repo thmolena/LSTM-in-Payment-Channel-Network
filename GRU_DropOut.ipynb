{
 "cells": [
  {
   "cell_type": "markdown",
   "metadata": {
    "id": "bgc8yb4c2W0g"
   },
   "source": [
    "# Recurrent Neural Network - LSTM\n"
   ]
  },
  {
   "cell_type": "markdown",
   "metadata": {
    "id": "aew2N81e35Uc"
   },
   "source": [
    "## Part 1 - Data Preprocessing\n",
    "\n",
    "---\n",
    "\n"
   ]
  },
  {
   "cell_type": "markdown",
   "metadata": {
    "id": "Z0vulSxH2hHu"
   },
   "source": [
    "### Import the libraries"
   ]
  },
  {
   "cell_type": "code",
   "execution_count": 1,
   "metadata": {
    "colab": {
     "base_uri": "https://localhost:8080/"
    },
    "executionInfo": {
     "elapsed": 5921,
     "status": "ok",
     "timestamp": 1654877521365,
     "user": {
      "displayName": "T H Molena",
      "userId": "09778002966791064148"
     },
     "user_tz": 240
    },
    "id": "p2SjiqlE2O08",
    "outputId": "b80c21dc-ef57-4cdb-ed60-66a257ec8f3a"
   },
   "outputs": [
    {
     "name": "stderr",
     "output_type": "stream",
     "text": [
      "/usr/local/lib/python3.7/dist-packages/statsmodels/tools/_testing.py:19: FutureWarning: pandas.util.testing is deprecated. Use the functions in the public API at pandas.testing instead.\n",
      "  import pandas.util.testing as tm\n"
     ]
    }
   ],
   "source": [
    "import numpy as np\n",
    "import matplotlib.pyplot as plt\n",
    "import pandas as pd\n",
    "\n",
    "import math\n",
    "from keras.models import Sequential\n",
    "from keras.layers import Dense, LSTM, GRU, Dropout\n",
    "from sklearn.metrics import mean_absolute_error, mean_squared_error\n",
    "from sklearn import preprocessing\n",
    "#from lifelines.utils import concordance_index\n",
    "\n",
    "from keras.layers.core import Dense\n",
    "from keras.layers.recurrent import LSTM\n",
    "from keras.layers import  Dropout\n",
    "from keras import regularizers \n",
    "from keras import backend as tf\n",
    "\n",
    "import keras.backend as K\n",
    "import seaborn as sns\n",
    "from keras.callbacks import LearningRateScheduler\n",
    "from keras.callbacks import ModelCheckpoint\n",
    "from keras.layers import *\n",
    "\n",
    "\n",
    "import sys, time, random, json, pickle, itertools\n",
    "import networkx as nx\n",
    "import matplotlib\n",
    "import scipy.stats\n",
    "from sklearn.neighbors import KernelDensity\n",
    "import statsmodels.stats.correlation_tools as stm\n",
    "from scipy.stats import norm\n",
    "\n",
    "import torch, torchvision\n",
    "from sklearn.preprocessing import MinMaxScaler\n",
    "np.random.seed(12345678)"
   ]
  },
  {
   "cell_type": "markdown",
   "metadata": {
    "id": "36Q16Udt2l3W"
   },
   "source": [
    "### Import the database"
   ]
  },
  {
   "cell_type": "code",
   "execution_count": 2,
   "metadata": {
    "colab": {
     "base_uri": "https://localhost:8080/"
    },
    "executionInfo": {
     "elapsed": 25324,
     "status": "ok",
     "timestamp": 1654877546686,
     "user": {
      "displayName": "T H Molena",
      "userId": "09778002966791064148"
     },
     "user_tz": 240
    },
    "id": "or7UuAX_PgCb",
    "outputId": "0e7991eb-b4e2-4a03-d2d8-af1d587fba16"
   },
   "outputs": [
    {
     "name": "stdout",
     "output_type": "stream",
     "text": [
      "Mounted at /content/drive\n"
     ]
    }
   ],
   "source": [
    "from google.colab import drive\n",
    "drive.mount('/content/drive',force_remount=True)\n",
    "\n",
    "import os\n",
    "workdir_path = '/content/drive/MyDrive/Summer 2022 RA'\n",
    "os.chdir(workdir_path)"
   ]
  },
  {
   "cell_type": "code",
   "execution_count": 3,
   "metadata": {
    "colab": {
     "base_uri": "https://localhost:8080/"
    },
    "executionInfo": {
     "elapsed": 1898,
     "status": "ok",
     "timestamp": 1654877548581,
     "user": {
      "displayName": "T H Molena",
      "userId": "09778002966791064148"
     },
     "user_tz": 240
    },
    "id": "1ivhnWxD2eEG",
    "outputId": "bcdea368-eab3-401b-eae5-61f998e6c4dd"
   },
   "outputs": [
    {
     "name": "stdout",
     "output_type": "stream",
     "text": [
      "Number of non-existent files: 0\n"
     ]
    }
   ],
   "source": [
    "# Define data files\n",
    "datadir = 'dataverse_files/'\n",
    "datafn_tmpl = datadir + 'sms-call-internet-mi-%4d-%02d-%02d.txt'\n",
    "datafn_idxs = [ (2013, 11, i) for i in range(1,15) ]  #+ [ (2013, 12, i) for i in range(1, 32) ] + [ (2014, 1, 1) ]\n",
    "datafns = [ datafn_tmpl % x for x in datafn_idxs ]\n",
    "print(\"Number of non-existent files:\", sum([ not os.path.exists(fn) for fn in datafns ]))\n",
    "outfn = datadir[:-1] + '-internet.csv'\n",
    "\n",
    "# dataset_train = pd.read_csv('train.csv')\n",
    "# training_set = dataset_train.iloc[:, 1:2].values #only column of the series itself"
   ]
  },
  {
   "cell_type": "code",
   "execution_count": 4,
   "metadata": {
    "executionInfo": {
     "elapsed": 4,
     "status": "ok",
     "timestamp": 1654877548582,
     "user": {
      "displayName": "T H Molena",
      "userId": "09778002966791064148"
     },
     "user_tz": 240
    },
    "id": "wkOaBKB5xuts"
   },
   "outputs": [],
   "source": [
    "# Pick the data files to index\n",
    "fns = datafns#[:10]"
   ]
  },
  {
   "cell_type": "code",
   "execution_count": 4,
   "metadata": {
    "executionInfo": {
     "elapsed": 4,
     "status": "ok",
     "timestamp": 1654877548582,
     "user": {
      "displayName": "T H Molena",
      "userId": "09778002966791064148"
     },
     "user_tz": 240
    },
    "id": "rEkC6jvzFia2"
   },
   "outputs": [],
   "source": []
  },
  {
   "cell_type": "markdown",
   "metadata": {
    "id": "fIKzwwumFPG0"
   },
   "source": [
    "### Read and Preprocess Data (Save to CSV)"
   ]
  },
  {
   "cell_type": "code",
   "execution_count": 5,
   "metadata": {
    "executionInfo": {
     "elapsed": 104299,
     "status": "ok",
     "timestamp": 1654877652878,
     "user": {
      "displayName": "T H Molena",
      "userId": "09778002966791064148"
     },
     "user_tz": 240
    },
    "id": "z12MQj__x28y"
   },
   "outputs": [],
   "source": [
    "data = pd.DataFrame()\n",
    "for fn in fns:\n",
    "    #print('Reading file ', fn, ' ...')\n",
    "    df = pd.read_csv(fn, sep=\"\\t\", header=None, names=['grid', 'time', 'country', 'sms-in', 'sms-out', 'call-in', 'call-out', 'internet'])\n",
    "    df = df[ df['country'] == 39 ].drop(columns=['country', 'sms-in', 'sms-out', 'call-in', 'call-out']).fillna(0)\n",
    "    data = pd.concat([ data, df ])\n",
    "data = data.sort_values(by=['time', 'grid']).reset_index(drop=True)"
   ]
  },
  {
   "cell_type": "code",
   "execution_count": 6,
   "metadata": {
    "colab": {
     "base_uri": "https://localhost:8080/"
    },
    "executionInfo": {
     "elapsed": 2245,
     "status": "ok",
     "timestamp": 1654877655108,
     "user": {
      "displayName": "T H Molena",
      "userId": "09778002966791064148"
     },
     "user_tz": 240
    },
    "id": "cJk5D6IXx3GS",
    "outputId": "be6e7f14-2b61-4728-be7b-c54276f0d016"
   },
   "outputs": [
    {
     "name": "stdout",
     "output_type": "stream",
     "text": [
      "# 10min slots: 2016\n",
      "Mean internet: 70.20679242677677\n",
      "(Min, 5%, 25%, median, 75%, 95%, max) internet:\n",
      "(0.0, 3.1835907387006883, 11.816370411143543, 30.41234899954803, 71.04352514522425, 272.3307009563439, 7936.265379884158)\n"
     ]
    }
   ],
   "source": [
    "# Statistics of the dataset\n",
    "print(\"# 10min slots:\", len(data['time'].unique()) )\n",
    "print(\"Mean internet:\", data['internet'].mean())\n",
    "print(\"(Min, 5%, 25%, median, 75%, 95%, max) internet:\")\n",
    "print( ( data['internet'].min(), data['internet'].quantile(0.05), data['internet'].quantile(0.25), data['internet'].median(), data['internet'].quantile(0.75), data['internet'].quantile(0.95), data['internet'].max() )  )"
   ]
  },
  {
   "cell_type": "code",
   "execution_count": 7,
   "metadata": {
    "executionInfo": {
     "elapsed": 65503,
     "status": "ok",
     "timestamp": 1654877720609,
     "user": {
      "displayName": "T H Molena",
      "userId": "09778002966791064148"
     },
     "user_tz": 240
    },
    "id": "w0wDDlnMx3Lg"
   },
   "outputs": [],
   "source": [
    "data.to_csv(outfn)"
   ]
  },
  {
   "cell_type": "markdown",
   "metadata": {
    "id": "NHKE7FzDFTs7"
   },
   "source": [
    "### Load Data"
   ]
  },
  {
   "cell_type": "code",
   "execution_count": 8,
   "metadata": {
    "colab": {
     "base_uri": "https://localhost:8080/"
    },
    "executionInfo": {
     "elapsed": 23765,
     "status": "ok",
     "timestamp": 1654877744360,
     "user": {
      "displayName": "T H Molena",
      "userId": "09778002966791064148"
     },
     "user_tz": 240
    },
    "id": "efc_FSe8z9go",
    "outputId": "582cab2c-903d-42a6-8f55-a5495d4162b9"
   },
   "outputs": [
    {
     "name": "stdout",
     "output_type": "stream",
     "text": [
      "# 10min slots: 2016\n"
     ]
    }
   ],
   "source": [
    "data = pd.read_csv(outfn, index_col=0)\n",
    "print(\"# 10min slots:\", len(data['time'].unique()) )"
   ]
  },
  {
   "cell_type": "code",
   "execution_count": 9,
   "metadata": {
    "executionInfo": {
     "elapsed": 237736,
     "status": "ok",
     "timestamp": 1654877982076,
     "user": {
      "displayName": "T H Molena",
      "userId": "09778002966791064148"
     },
     "user_tz": 240
    },
    "id": "0EFoC5HKz9yV"
   },
   "outputs": [],
   "source": [
    "# Find a grid with the maximum total demand for the prediction task\n",
    "max_dmd_grid = sorted([ ( data[ data['grid']==i ]['internet'].sum(), i ) for i in range(1, 10001) ])\n",
    "max_dmd_grid = list(reversed(max_dmd_grid))\n",
    "gridx = max_dmd_grid[0][1]\n",
    "#max_dmd_grid[:30]"
   ]
  },
  {
   "cell_type": "code",
   "execution_count": 10,
   "metadata": {
    "executionInfo": {
     "elapsed": 27,
     "status": "ok",
     "timestamp": 1654877982077,
     "user": {
      "displayName": "T H Molena",
      "userId": "09778002966791064148"
     },
     "user_tz": 240
    },
    "id": "UmfS_pv2z-BO"
   },
   "outputs": [],
   "source": [
    "datax = data[ data['grid'] == gridx ].reset_index(drop=True)"
   ]
  },
  {
   "cell_type": "code",
   "execution_count": 10,
   "metadata": {
    "executionInfo": {
     "elapsed": 25,
     "status": "ok",
     "timestamp": 1654877982077,
     "user": {
      "displayName": "T H Molena",
      "userId": "09778002966791064148"
     },
     "user_tz": 240
    },
    "id": "0nFA3LmIVP0r"
   },
   "outputs": [],
   "source": []
  },
  {
   "cell_type": "code",
   "execution_count": 11,
   "metadata": {
    "colab": {
     "base_uri": "https://localhost:8080/",
     "height": 282
    },
    "executionInfo": {
     "elapsed": 1613,
     "status": "ok",
     "timestamp": 1654877983665,
     "user": {
      "displayName": "T H Molena",
      "userId": "09778002966791064148"
     },
     "user_tz": 240
    },
    "id": "EArHjiRKDQfU",
    "outputId": "396653d8-de56-4321-d2cc-003de9962957"
   },
   "outputs": [
    {
     "data": {
      "text/plain": [
       "<matplotlib.axes._subplots.AxesSubplot at 0x7f123b3d7d50>"
      ]
     },
     "execution_count": 11,
     "metadata": {},
     "output_type": "execute_result"
    },
    {
     "data": {
      "image/png": "[encoded data removed]",
      "text/plain": [
       "<Figure size 432x288 with 1 Axes>"
      ]
     },
     "metadata": {
      "needs_background": "light"
     },
     "output_type": "display_data"
    }
   ],
   "source": [
    "# Plot the data\n",
    "datax['internet'].plot()"
   ]
  },
  {
   "cell_type": "markdown",
   "metadata": {
    "id": "kDWi2tKPowq5"
   },
   "source": [
    "### Learning and Prediction"
   ]
  },
  {
   "cell_type": "markdown",
   "metadata": {
    "id": "hqFSFJV0FqV4"
   },
   "source": [
    "### Preparing data"
   ]
  },
  {
   "cell_type": "code",
   "execution_count": 12,
   "metadata": {
    "colab": {
     "base_uri": "https://localhost:8080/"
    },
    "executionInfo": {
     "elapsed": 16,
     "status": "ok",
     "timestamp": 1654877983665,
     "user": {
      "displayName": "T H Molena",
      "userId": "09778002966791064148"
     },
     "user_tz": 240
    },
    "id": "JJ3J07dWFso3",
    "outputId": "0a67661c-e041-4aa9-b6bf-b3fdb1df2cdc"
   },
   "outputs": [
    {
     "name": "stdout",
     "output_type": "stream",
     "text": [
      "Train size: 1344 Test size: 672\n"
     ]
    }
   ],
   "source": [
    "# Parameters\n",
    "total_size = len(datax.index)\n",
    "train_size = int(total_size * 2 / 3)\n",
    "test_size = total_size - train_size\n",
    "print(\"Train size:\", train_size, \"Test size:\", test_size)"
   ]
  },
  {
   "cell_type": "code",
   "execution_count": 13,
   "metadata": {
    "executionInfo": {
     "elapsed": 12,
     "status": "ok",
     "timestamp": 1654877983665,
     "user": {
      "displayName": "T H Molena",
      "userId": "09778002966791064148"
     },
     "user_tz": 240
    },
    "id": "vFYH9SMrFsxX"
   },
   "outputs": [],
   "source": [
    "# Train/test split\n",
    "#x = datax['internet'].to_numpy()\n",
    "\n",
    "train = datax[:train_size]\n",
    "test = datax[train_size:]\n",
    "dataset_train = train\n",
    "training_set = dataset_train.iloc[:, 2:3].values"
   ]
  },
  {
   "cell_type": "markdown",
   "metadata": {
    "id": "kd39T1zK2ql1"
   },
   "source": [
    "### Time Series Graph"
   ]
  },
  {
   "cell_type": "code",
   "execution_count": 14,
   "metadata": {
    "colab": {
     "base_uri": "https://localhost:8080/",
     "height": 295
    },
    "executionInfo": {
     "elapsed": 12,
     "status": "ok",
     "timestamp": 1654877983666,
     "user": {
      "displayName": "T H Molena",
      "userId": "09778002966791064148"
     },
     "user_tz": 240
    },
    "id": "vMsAFuya2rhr",
    "outputId": "42a8e7bc-6243-4b46-a50e-3b62d3a96146"
   },
   "outputs": [
    {
     "data": {
      "image/png": "[encoded data removed]",
      "text/plain": [
       "<Figure size 432x288 with 1 Axes>"
      ]
     },
     "metadata": {
      "needs_background": "light"
     },
     "output_type": "display_data"
    }
   ],
   "source": [
    "plt.plot(training_set)\n",
    "plt.xlabel(\"Time\")\n",
    "plt.ylabel(\"Internet\")\n",
    "plt.title(\"Time Series Graph\")\n",
    "plt.show()\n",
    "\n",
    "# plt.plot(datax['internet'])\n",
    "# plt.xlabel(\"Time\")\n",
    "# plt.ylabel(\"Internet\")\n",
    "# plt.title(\"Time Series Graph\")\n",
    "# plt.show()"
   ]
  },
  {
   "cell_type": "markdown",
   "metadata": {
    "id": "7p1F7HdB2uJU"
   },
   "source": [
    "### Normalization\n",
    "\n"
   ]
  },
  {
   "cell_type": "code",
   "execution_count": 15,
   "metadata": {
    "executionInfo": {
     "elapsed": 10,
     "status": "ok",
     "timestamp": 1654877983666,
     "user": {
      "displayName": "T H Molena",
      "userId": "09778002966791064148"
     },
     "user_tz": 240
    },
    "id": "foeHRZr-2u-L"
   },
   "outputs": [],
   "source": [
    "from sklearn.preprocessing import MinMaxScaler\n",
    "sc = MinMaxScaler(feature_range = (0, 1))\n",
    "training_set_scaled = sc.fit_transform(training_set)"
   ]
  },
  {
   "cell_type": "markdown",
   "metadata": {
    "id": "uQP8Q7MI21Y9"
   },
   "source": [
    "### Create the data structure with window 15 and output 1"
   ]
  },
  {
   "cell_type": "code",
   "execution_count": 16,
   "metadata": {
    "executionInfo": {
     "elapsed": 10,
     "status": "ok",
     "timestamp": 1654877983666,
     "user": {
      "displayName": "T H Molena",
      "userId": "09778002966791064148"
     },
     "user_tz": 240
    },
    "id": "C6Ge9ql922cb"
   },
   "outputs": [],
   "source": [
    "window = 144\n",
    "trainSize = len(training_set_scaled)\n",
    "X_train = []\n",
    "y_train = []\n",
    "for i in range(window, trainSize):\n",
    "    X_train.append(training_set_scaled[i-window:i, 0])\n",
    "    y_train.append(training_set_scaled[i, 0])\n",
    "X_train, y_train = np.array(X_train), np.array(y_train)"
   ]
  },
  {
   "cell_type": "markdown",
   "metadata": {
    "id": "LPBC2LoG24dU"
   },
   "source": [
    "### Reshaping"
   ]
  },
  {
   "cell_type": "code",
   "execution_count": 17,
   "metadata": {
    "colab": {
     "base_uri": "https://localhost:8080/"
    },
    "executionInfo": {
     "elapsed": 10,
     "status": "ok",
     "timestamp": 1654877983666,
     "user": {
      "displayName": "T H Molena",
      "userId": "09778002966791064148"
     },
     "user_tz": 240
    },
    "id": "oGwgQUDbdmnS",
    "outputId": "a7781fba-abe0-4044-966c-3ffa3923c1a3"
   },
   "outputs": [
    {
     "data": {
      "text/plain": [
       "(1200, 144)"
      ]
     },
     "execution_count": 17,
     "metadata": {},
     "output_type": "execute_result"
    }
   ],
   "source": [
    "X_train.shape"
   ]
  },
  {
   "cell_type": "code",
   "execution_count": 18,
   "metadata": {
    "executionInfo": {
     "elapsed": 8,
     "status": "ok",
     "timestamp": 1654877983666,
     "user": {
      "displayName": "T H Molena",
      "userId": "09778002966791064148"
     },
     "user_tz": 240
    },
    "id": "b9ZfLlGH25fr"
   },
   "outputs": [],
   "source": [
    "X_train = np.reshape(X_train, (X_train.shape[0], X_train.shape[1], 1))"
   ]
  },
  {
   "cell_type": "code",
   "execution_count": 19,
   "metadata": {
    "colab": {
     "base_uri": "https://localhost:8080/"
    },
    "executionInfo": {
     "elapsed": 8,
     "status": "ok",
     "timestamp": 1654877983667,
     "user": {
      "displayName": "T H Molena",
      "userId": "09778002966791064148"
     },
     "user_tz": 240
    },
    "id": "RxU0axM9diHO",
    "outputId": "f396dc94-a002-46e7-f173-dc970018b332"
   },
   "outputs": [
    {
     "data": {
      "text/plain": [
       "(1200, 144, 1)"
      ]
     },
     "execution_count": 19,
     "metadata": {},
     "output_type": "execute_result"
    }
   ],
   "source": [
    "X_train.shape"
   ]
  },
  {
   "cell_type": "markdown",
   "metadata": {
    "id": "fZhjp7Tf282b"
   },
   "source": [
    "## Part 2 - Construction of the RNN"
   ]
  },
  {
   "cell_type": "markdown",
   "metadata": {
    "id": "kordpD0_3H7b"
   },
   "source": [
    "### Construction of the complete network"
   ]
  },
  {
   "cell_type": "code",
   "execution_count": 20,
   "metadata": {
    "colab": {
     "base_uri": "https://localhost:8080/"
    },
    "executionInfo": {
     "elapsed": 4766,
     "status": "ok",
     "timestamp": 1654877988426,
     "user": {
      "displayName": "T H Molena",
      "userId": "09778002966791064148"
     },
     "user_tz": 240
    },
    "id": "EskB17uo3Iso",
    "outputId": "00b8bee7-f78c-4150-a6c0-31d3cb25d29c"
   },
   "outputs": [
    {
     "name": "stdout",
     "output_type": "stream",
     "text": [
      "Model: \"sequential\"\n",
      "_________________________________________________________________\n",
      " Layer (type)                Output Shape              Param #   \n",
      "=================================================================\n",
      " gru (GRU)                   (None, 144, 1344)         5431104   \n",
      "                                                                 \n",
      " dropout (Dropout)           (None, 144, 1344)         0         \n",
      "                                                                 \n",
      " gru_1 (GRU)                 (None, 144)               643680    \n",
      "                                                                 \n",
      " dropout_1 (Dropout)         (None, 144)               0         \n",
      "                                                                 \n",
      " dense (Dense)               (None, 1)                 145       \n",
      "                                                                 \n",
      "=================================================================\n",
      "Total params: 6,074,929\n",
      "Trainable params: 6,074,929\n",
      "Non-trainable params: 0\n",
      "_________________________________________________________________\n"
     ]
    }
   ],
   "source": [
    "# Initialize the RNN\n",
    "regressor = Sequential()\n",
    "\n",
    "# Add the first LSTM layer and Dropout \n",
    "regressor.add(GRU(units = len(train), return_sequences = True, input_shape = (X_train.shape[1], 1)))\n",
    "regressor.add(Dropout(0.2))\n",
    " \n",
    "# Add the second LSTM layer and Dropout\n",
    "regressor.add(GRU(units = window, return_sequences = False))\n",
    "regressor.add(Dropout(0.2))\n",
    " \n",
    "# # Add the third LSTM layer and Dropout\n",
    "# regressor.add(LSTM(units = 50, return_sequences = False))\n",
    "# regressor.add(Dropout(0.2))\n",
    " \n",
    "# Output layer\n",
    "regressor.add(Dense(units = 1))\n",
    " \n",
    "# Compile the network\n",
    "regressor.compile(optimizer = 'adam', loss = 'mean_squared_error')\n",
    "\n",
    "# Summarize the network\n",
    "regressor.summary()"
   ]
  },
  {
   "cell_type": "markdown",
   "metadata": {
    "id": "5j1w28g83iSR"
   },
   "source": [
    "### Training"
   ]
  },
  {
   "cell_type": "code",
   "execution_count": 21,
   "metadata": {
    "colab": {
     "base_uri": "https://localhost:8080/"
    },
    "executionInfo": {
     "elapsed": 337945,
     "status": "ok",
     "timestamp": 1654878326350,
     "user": {
      "displayName": "T H Molena",
      "userId": "09778002966791064148"
     },
     "user_tz": 240
    },
    "id": "xWKAuKyp3jXv",
    "outputId": "9b7fd611-6ee8-4c4a-ede1-e924a8c31ec3"
   },
   "outputs": [
    {
     "name": "stdout",
     "output_type": "stream",
     "text": [
      "Epoch 1/150\n",
      "10/10 [==============================] - 9s 198ms/step - loss: 0.0128\n",
      "Epoch 2/150\n",
      "10/10 [==============================] - 2s 198ms/step - loss: 0.0023\n",
      "Epoch 3/150\n",
      "10/10 [==============================] - 2s 199ms/step - loss: 0.0016\n",
      "Epoch 4/150\n",
      "10/10 [==============================] - 2s 200ms/step - loss: 0.0016\n",
      "Epoch 5/150\n",
      "10/10 [==============================] - 2s 199ms/step - loss: 0.0014\n",
      "Epoch 6/150\n",
      "10/10 [==============================] - 2s 201ms/step - loss: 0.0014\n",
      "Epoch 7/150\n",
      "10/10 [==============================] - 2s 200ms/step - loss: 0.0013\n",
      "Epoch 8/150\n",
      "10/10 [==============================] - 2s 200ms/step - loss: 0.0014\n",
      "Epoch 9/150\n",
      "10/10 [==============================] - 2s 200ms/step - loss: 0.0015\n",
      "Epoch 10/150\n",
      "10/10 [==============================] - 2s 200ms/step - loss: 0.0014\n",
      "Epoch 11/150\n",
      "10/10 [==============================] - 2s 201ms/step - loss: 0.0015\n",
      "Epoch 12/150\n",
      "10/10 [==============================] - 2s 201ms/step - loss: 0.0015\n",
      "Epoch 13/150\n",
      "10/10 [==============================] - 2s 204ms/step - loss: 0.0014\n",
      "Epoch 14/150\n",
      "10/10 [==============================] - 2s 201ms/step - loss: 0.0015\n",
      "Epoch 15/150\n",
      "10/10 [==============================] - 2s 202ms/step - loss: 0.0014\n",
      "Epoch 16/150\n",
      "10/10 [==============================] - 2s 203ms/step - loss: 0.0014\n",
      "Epoch 17/150\n",
      "10/10 [==============================] - 2s 203ms/step - loss: 0.0014\n",
      "Epoch 18/150\n",
      "10/10 [==============================] - 2s 204ms/step - loss: 0.0013\n",
      "Epoch 19/150\n",
      "10/10 [==============================] - 2s 204ms/step - loss: 0.0015\n",
      "Epoch 20/150\n",
      "10/10 [==============================] - 2s 203ms/step - loss: 0.0014\n",
      "Epoch 21/150\n",
      "10/10 [==============================] - 2s 203ms/step - loss: 0.0014\n",
      "Epoch 22/150\n",
      "10/10 [==============================] - 2s 206ms/step - loss: 0.0013\n",
      "Epoch 23/150\n",
      "10/10 [==============================] - 2s 207ms/step - loss: 0.0014\n",
      "Epoch 24/150\n",
      "10/10 [==============================] - 2s 205ms/step - loss: 0.0015\n",
      "Epoch 25/150\n",
      "10/10 [==============================] - 2s 206ms/step - loss: 0.0016\n",
      "Epoch 26/150\n",
      "10/10 [==============================] - 2s 205ms/step - loss: 0.0017\n",
      "Epoch 27/150\n",
      "10/10 [==============================] - 2s 207ms/step - loss: 0.0014\n",
      "Epoch 28/150\n",
      "10/10 [==============================] - 2s 207ms/step - loss: 0.0014\n",
      "Epoch 29/150\n",
      "10/10 [==============================] - 2s 208ms/step - loss: 0.0013\n",
      "Epoch 30/150\n",
      "10/10 [==============================] - 2s 210ms/step - loss: 0.0014\n",
      "Epoch 31/150\n",
      "10/10 [==============================] - 2s 209ms/step - loss: 0.0013\n",
      "Epoch 32/150\n",
      "10/10 [==============================] - 2s 211ms/step - loss: 0.0014\n",
      "Epoch 33/150\n",
      "10/10 [==============================] - 2s 210ms/step - loss: 0.0015\n",
      "Epoch 34/150\n",
      "10/10 [==============================] - 2s 210ms/step - loss: 0.0013\n",
      "Epoch 35/150\n",
      "10/10 [==============================] - 2s 210ms/step - loss: 0.0014\n",
      "Epoch 36/150\n",
      "10/10 [==============================] - 2s 211ms/step - loss: 0.0014\n",
      "Epoch 37/150\n",
      "10/10 [==============================] - 2s 211ms/step - loss: 0.0016\n",
      "Epoch 38/150\n",
      "10/10 [==============================] - 2s 211ms/step - loss: 0.0014\n",
      "Epoch 39/150\n",
      "10/10 [==============================] - 2s 211ms/step - loss: 0.0014\n",
      "Epoch 40/150\n",
      "10/10 [==============================] - 2s 212ms/step - loss: 0.0013\n",
      "Epoch 41/150\n",
      "10/10 [==============================] - 2s 215ms/step - loss: 0.0013\n",
      "Epoch 42/150\n",
      "10/10 [==============================] - 2s 217ms/step - loss: 0.0013\n",
      "Epoch 43/150\n",
      "10/10 [==============================] - 2s 216ms/step - loss: 0.0015\n",
      "Epoch 44/150\n",
      "10/10 [==============================] - 2s 215ms/step - loss: 0.0015\n",
      "Epoch 45/150\n",
      "10/10 [==============================] - 2s 216ms/step - loss: 0.0014\n",
      "Epoch 46/150\n",
      "10/10 [==============================] - 2s 214ms/step - loss: 0.0014\n",
      "Epoch 47/150\n",
      "10/10 [==============================] - 2s 218ms/step - loss: 0.0013\n",
      "Epoch 48/150\n",
      "10/10 [==============================] - 2s 216ms/step - loss: 0.0014\n",
      "Epoch 49/150\n",
      "10/10 [==============================] - 2s 218ms/step - loss: 0.0014\n",
      "Epoch 50/150\n",
      "10/10 [==============================] - 2s 218ms/step - loss: 0.0013\n",
      "Epoch 51/150\n",
      "10/10 [==============================] - 2s 220ms/step - loss: 0.0012\n",
      "Epoch 52/150\n",
      "10/10 [==============================] - 2s 220ms/step - loss: 0.0012\n",
      "Epoch 53/150\n",
      "10/10 [==============================] - 2s 220ms/step - loss: 0.0012\n",
      "Epoch 54/150\n",
      "10/10 [==============================] - 2s 218ms/step - loss: 0.0013\n",
      "Epoch 55/150\n",
      "10/10 [==============================] - 2s 222ms/step - loss: 0.0013\n",
      "Epoch 56/150\n",
      "10/10 [==============================] - 2s 220ms/step - loss: 0.0016\n",
      "Epoch 57/150\n",
      "10/10 [==============================] - 2s 220ms/step - loss: 0.0013\n",
      "Epoch 58/150\n",
      "10/10 [==============================] - 2s 220ms/step - loss: 0.0015\n",
      "Epoch 59/150\n",
      "10/10 [==============================] - 2s 222ms/step - loss: 0.0014\n",
      "Epoch 60/150\n",
      "10/10 [==============================] - 2s 223ms/step - loss: 0.0013\n",
      "Epoch 61/150\n",
      "10/10 [==============================] - 2s 224ms/step - loss: 0.0012\n",
      "Epoch 62/150\n",
      "10/10 [==============================] - 2s 224ms/step - loss: 0.0012\n",
      "Epoch 63/150\n",
      "10/10 [==============================] - 2s 223ms/step - loss: 0.0012\n",
      "Epoch 64/150\n",
      "10/10 [==============================] - 2s 225ms/step - loss: 0.0013\n",
      "Epoch 65/150\n",
      "10/10 [==============================] - 2s 224ms/step - loss: 0.0012\n",
      "Epoch 66/150\n",
      "10/10 [==============================] - 2s 224ms/step - loss: 0.0013\n",
      "Epoch 67/150\n",
      "10/10 [==============================] - 2s 225ms/step - loss: 0.0013\n",
      "Epoch 68/150\n",
      "10/10 [==============================] - 2s 224ms/step - loss: 0.0013\n",
      "Epoch 69/150\n",
      "10/10 [==============================] - 2s 225ms/step - loss: 0.0012\n",
      "Epoch 70/150\n",
      "10/10 [==============================] - 2s 227ms/step - loss: 0.0014\n",
      "Epoch 71/150\n",
      "10/10 [==============================] - 2s 226ms/step - loss: 0.0013\n",
      "Epoch 72/150\n",
      "10/10 [==============================] - 2s 228ms/step - loss: 0.0012\n",
      "Epoch 73/150\n",
      "10/10 [==============================] - 2s 228ms/step - loss: 0.0014\n",
      "Epoch 74/150\n",
      "10/10 [==============================] - 2s 229ms/step - loss: 0.0013\n",
      "Epoch 75/150\n",
      "10/10 [==============================] - 2s 231ms/step - loss: 0.0015\n",
      "Epoch 76/150\n",
      "10/10 [==============================] - 2s 228ms/step - loss: 0.0013\n",
      "Epoch 77/150\n",
      "10/10 [==============================] - 2s 228ms/step - loss: 0.0014\n",
      "Epoch 78/150\n",
      "10/10 [==============================] - 2s 229ms/step - loss: 0.0016\n",
      "Epoch 79/150\n",
      "10/10 [==============================] - 2s 230ms/step - loss: 0.0014\n",
      "Epoch 80/150\n",
      "10/10 [==============================] - 2s 228ms/step - loss: 0.0012\n",
      "Epoch 81/150\n",
      "10/10 [==============================] - 2s 226ms/step - loss: 0.0012\n",
      "Epoch 82/150\n",
      "10/10 [==============================] - 2s 227ms/step - loss: 0.0013\n",
      "Epoch 83/150\n",
      "10/10 [==============================] - 2s 227ms/step - loss: 0.0014\n",
      "Epoch 84/150\n",
      "10/10 [==============================] - 2s 225ms/step - loss: 0.0012\n",
      "Epoch 85/150\n",
      "10/10 [==============================] - 2s 224ms/step - loss: 0.0013\n",
      "Epoch 86/150\n",
      "10/10 [==============================] - 2s 225ms/step - loss: 0.0013\n",
      "Epoch 87/150\n",
      "10/10 [==============================] - 2s 226ms/step - loss: 0.0013\n",
      "Epoch 88/150\n",
      "10/10 [==============================] - 2s 225ms/step - loss: 0.0013\n",
      "Epoch 89/150\n",
      "10/10 [==============================] - 2s 223ms/step - loss: 0.0013\n",
      "Epoch 90/150\n",
      "10/10 [==============================] - 2s 224ms/step - loss: 0.0012\n",
      "Epoch 91/150\n",
      "10/10 [==============================] - 2s 224ms/step - loss: 0.0013\n",
      "Epoch 92/150\n",
      "10/10 [==============================] - 2s 224ms/step - loss: 0.0012\n",
      "Epoch 93/150\n",
      "10/10 [==============================] - 2s 224ms/step - loss: 0.0012\n",
      "Epoch 94/150\n",
      "10/10 [==============================] - 2s 224ms/step - loss: 0.0012\n",
      "Epoch 95/150\n",
      "10/10 [==============================] - 2s 224ms/step - loss: 0.0012\n",
      "Epoch 96/150\n",
      "10/10 [==============================] - 2s 226ms/step - loss: 0.0013\n",
      "Epoch 97/150\n",
      "10/10 [==============================] - 2s 223ms/step - loss: 0.0013\n",
      "Epoch 98/150\n",
      "10/10 [==============================] - 2s 224ms/step - loss: 0.0013\n",
      "Epoch 99/150\n",
      "10/10 [==============================] - 2s 225ms/step - loss: 0.0012\n",
      "Epoch 100/150\n",
      "10/10 [==============================] - 2s 225ms/step - loss: 0.0012\n",
      "Epoch 101/150\n",
      "10/10 [==============================] - 2s 224ms/step - loss: 0.0011\n",
      "Epoch 102/150\n",
      "10/10 [==============================] - 2s 225ms/step - loss: 0.0013\n",
      "Epoch 103/150\n",
      "10/10 [==============================] - 2s 228ms/step - loss: 0.0012\n",
      "Epoch 104/150\n",
      "10/10 [==============================] - 2s 225ms/step - loss: 0.0012\n",
      "Epoch 105/150\n",
      "10/10 [==============================] - 2s 227ms/step - loss: 0.0012\n",
      "Epoch 106/150\n",
      "10/10 [==============================] - 2s 227ms/step - loss: 0.0013\n",
      "Epoch 107/150\n",
      "10/10 [==============================] - 2s 225ms/step - loss: 0.0013\n",
      "Epoch 108/150\n",
      "10/10 [==============================] - 2s 227ms/step - loss: 0.0012\n",
      "Epoch 109/150\n",
      "10/10 [==============================] - 2s 226ms/step - loss: 0.0012\n",
      "Epoch 110/150\n",
      "10/10 [==============================] - 2s 227ms/step - loss: 0.0012\n",
      "Epoch 111/150\n",
      "10/10 [==============================] - 2s 225ms/step - loss: 0.0013\n",
      "Epoch 112/150\n",
      "10/10 [==============================] - 2s 227ms/step - loss: 0.0013\n",
      "Epoch 113/150\n",
      "10/10 [==============================] - 2s 227ms/step - loss: 0.0012\n",
      "Epoch 114/150\n",
      "10/10 [==============================] - 2s 225ms/step - loss: 0.0012\n",
      "Epoch 115/150\n",
      "10/10 [==============================] - 2s 227ms/step - loss: 0.0012\n",
      "Epoch 116/150\n",
      "10/10 [==============================] - 2s 225ms/step - loss: 0.0012\n",
      "Epoch 117/150\n",
      "10/10 [==============================] - 2s 224ms/step - loss: 0.0011\n",
      "Epoch 118/150\n",
      "10/10 [==============================] - 2s 227ms/step - loss: 0.0012\n",
      "Epoch 119/150\n",
      "10/10 [==============================] - 2s 226ms/step - loss: 0.0012\n",
      "Epoch 120/150\n",
      "10/10 [==============================] - 2s 225ms/step - loss: 0.0012\n",
      "Epoch 121/150\n",
      "10/10 [==============================] - 2s 226ms/step - loss: 0.0014\n",
      "Epoch 122/150\n",
      "10/10 [==============================] - 2s 227ms/step - loss: 0.0013\n",
      "Epoch 123/150\n",
      "10/10 [==============================] - 2s 227ms/step - loss: 0.0013\n",
      "Epoch 124/150\n",
      "10/10 [==============================] - 2s 229ms/step - loss: 0.0012\n",
      "Epoch 125/150\n",
      "10/10 [==============================] - 2s 227ms/step - loss: 0.0012\n",
      "Epoch 126/150\n",
      "10/10 [==============================] - 2s 227ms/step - loss: 0.0012\n",
      "Epoch 127/150\n",
      "10/10 [==============================] - 2s 229ms/step - loss: 0.0012\n",
      "Epoch 128/150\n",
      "10/10 [==============================] - 2s 227ms/step - loss: 0.0013\n",
      "Epoch 129/150\n",
      "10/10 [==============================] - 2s 227ms/step - loss: 0.0012\n",
      "Epoch 130/150\n",
      "10/10 [==============================] - 2s 226ms/step - loss: 0.0012\n",
      "Epoch 131/150\n",
      "10/10 [==============================] - 2s 226ms/step - loss: 0.0013\n",
      "Epoch 132/150\n",
      "10/10 [==============================] - 2s 225ms/step - loss: 0.0011\n",
      "Epoch 133/150\n",
      "10/10 [==============================] - 2s 224ms/step - loss: 0.0012\n",
      "Epoch 134/150\n",
      "10/10 [==============================] - 2s 224ms/step - loss: 0.0012\n",
      "Epoch 135/150\n",
      "10/10 [==============================] - 2s 224ms/step - loss: 0.0011\n",
      "Epoch 136/150\n",
      "10/10 [==============================] - 2s 226ms/step - loss: 0.0012\n",
      "Epoch 137/150\n",
      "10/10 [==============================] - 2s 225ms/step - loss: 0.0013\n",
      "Epoch 138/150\n",
      "10/10 [==============================] - 2s 224ms/step - loss: 0.0012\n",
      "Epoch 139/150\n",
      "10/10 [==============================] - 2s 224ms/step - loss: 0.0012\n",
      "Epoch 140/150\n",
      "10/10 [==============================] - 2s 225ms/step - loss: 0.0013\n",
      "Epoch 141/150\n",
      "10/10 [==============================] - 2s 226ms/step - loss: 0.0013\n",
      "Epoch 142/150\n",
      "10/10 [==============================] - 2s 225ms/step - loss: 0.0013\n",
      "Epoch 143/150\n",
      "10/10 [==============================] - 2s 225ms/step - loss: 0.0011\n",
      "Epoch 144/150\n",
      "10/10 [==============================] - 2s 225ms/step - loss: 0.0012\n",
      "Epoch 145/150\n",
      "10/10 [==============================] - 2s 225ms/step - loss: 0.0013\n",
      "Epoch 146/150\n",
      "10/10 [==============================] - 2s 225ms/step - loss: 0.0012\n",
      "Epoch 147/150\n",
      "10/10 [==============================] - 2s 227ms/step - loss: 0.0012\n",
      "Epoch 148/150\n",
      "10/10 [==============================] - 2s 225ms/step - loss: 0.0011\n",
      "Epoch 149/150\n",
      "10/10 [==============================] - 2s 224ms/step - loss: 0.0013\n",
      "Epoch 150/150\n",
      "10/10 [==============================] - 2s 227ms/step - loss: 0.0013\n"
     ]
    },
    {
     "data": {
      "text/plain": [
       "<keras.callbacks.History at 0x7f1230588310>"
      ]
     },
     "execution_count": 21,
     "metadata": {},
     "output_type": "execute_result"
    }
   ],
   "source": [
    "regressor.fit(X_train, y_train, epochs = 150, batch_size = 128)"
   ]
  },
  {
   "cell_type": "markdown",
   "metadata": {
    "id": "gwpyImwA3yon"
   },
   "source": [
    "## Part 3 - Making predictions and analyzing the results"
   ]
  },
  {
   "cell_type": "markdown",
   "metadata": {
    "id": "wkXRvDjT4V-B"
   },
   "source": [
    "### Test base"
   ]
  },
  {
   "cell_type": "code",
   "execution_count": 22,
   "metadata": {
    "executionInfo": {
     "elapsed": 19,
     "status": "ok",
     "timestamp": 1654878326350,
     "user": {
      "displayName": "T H Molena",
      "userId": "09778002966791064148"
     },
     "user_tz": 240
    },
    "id": "Bn_n72dh30K-"
   },
   "outputs": [],
   "source": [
    "dataset_test = test\n",
    "test_pul = dataset_test.iloc[:, 2:3].values"
   ]
  },
  {
   "cell_type": "markdown",
   "metadata": {
    "id": "EOo84exH4bfs"
   },
   "source": [
    "### Build the framework for testing"
   ]
  },
  {
   "cell_type": "code",
   "execution_count": 23,
   "metadata": {
    "executionInfo": {
     "elapsed": 4,
     "status": "ok",
     "timestamp": 1654878326351,
     "user": {
      "displayName": "T H Molena",
      "userId": "09778002966791064148"
     },
     "user_tz": 240
    },
    "id": "ob_-mGA_B5px"
   },
   "outputs": [],
   "source": [
    "dataset_total = pd.concat((dataset_train.iloc[:,2], dataset_test.iloc[:,2]), axis = 0)\n",
    "\n",
    "testLength = len(dataset_test)\n",
    "inputs = dataset_total[len(dataset_total) - testLength - window:].values\n",
    "inputs = inputs.reshape(inputs.shape[0],1)\n",
    "\n",
    "inputs = sc.transform(inputs)\n",
    "X_test = []\n",
    "for i in range(window, inputs.shape[0]): \n",
    "    X_test.append(inputs[i-window:i, 0])\n",
    "X_test = np.array(X_test)\n",
    "\n",
    "X_test = np.reshape(X_test, (X_test.shape[0], X_test.shape[1], 1))"
   ]
  },
  {
   "cell_type": "markdown",
   "metadata": {
    "id": "rtkB4NA74e1B"
   },
   "source": [
    "### Make the predictions\n"
   ]
  },
  {
   "cell_type": "code",
   "execution_count": 24,
   "metadata": {
    "executionInfo": {
     "elapsed": 1643,
     "status": "ok",
     "timestamp": 1654878327990,
     "user": {
      "displayName": "T H Molena",
      "userId": "09778002966791064148"
     },
     "user_tz": 240
    },
    "id": "nKIq1h-E4g9Z"
   },
   "outputs": [],
   "source": [
    "predicted = regressor.predict(X_test)\n",
    "regressor.save_weights('weightsfile_gru.h5')\n",
    "#existingModel.load_weights('weightsfile.h5')\n",
    "predicted = sc.inverse_transform(predicted)"
   ]
  },
  {
   "cell_type": "code",
   "execution_count": 25,
   "metadata": {
    "executionInfo": {
     "elapsed": 7,
     "status": "ok",
     "timestamp": 1654878327991,
     "user": {
      "displayName": "T H Molena",
      "userId": "09778002966791064148"
     },
     "user_tz": 240
    },
    "id": "whWS4bp6SbjG"
   },
   "outputs": [],
   "source": [
    "# print(len(predictions))\n",
    "# print(predictions.shape)"
   ]
  },
  {
   "cell_type": "code",
   "execution_count": 26,
   "metadata": {
    "executionInfo": {
     "elapsed": 5,
     "status": "ok",
     "timestamp": 1654878327991,
     "user": {
      "displayName": "T H Molena",
      "userId": "09778002966791064148"
     },
     "user_tz": 240
    },
    "id": "V9hjqenMTnBp"
   },
   "outputs": [],
   "source": [
    "# x = np.arange(test_size)"
   ]
  },
  {
   "cell_type": "markdown",
   "metadata": {
    "id": "guvk7yXr4o0g"
   },
   "source": [
    "### Visualization of training and test results"
   ]
  },
  {
   "cell_type": "code",
   "execution_count": 27,
   "metadata": {
    "executionInfo": {
     "elapsed": 4,
     "status": "ok",
     "timestamp": 1654878327991,
     "user": {
      "displayName": "T H Molena",
      "userId": "09778002966791064148"
     },
     "user_tz": 240
    },
    "id": "QZYy5UtjTmV0"
   },
   "outputs": [],
   "source": [
    "# plt.title('Time slot vs mobile traffic')\n",
    "# plt.ylabel('Internet traffic')\n",
    "# plt.grid(True)\n",
    "# plt.autoscale(axis='x', tight=True)\n",
    "# plt.plot(test)\n",
    "# plt.plot(x,predictions)\n",
    "# plt.show()"
   ]
  },
  {
   "cell_type": "code",
   "execution_count": 28,
   "metadata": {
    "colab": {
     "base_uri": "https://localhost:8080/",
     "height": 560
    },
    "executionInfo": {
     "elapsed": 3183,
     "status": "ok",
     "timestamp": 1654878331170,
     "user": {
      "displayName": "T H Molena",
      "userId": "09778002966791064148"
     },
     "user_tz": 240
    },
    "id": "tstXl2oS4rIo",
    "outputId": "06782fac-1637-46b3-b0de-d26b079796a8"
   },
   "outputs": [
    {
     "data": {
      "image/png": "[encoded data removed]",
      "text/plain": [
       "<Figure size 432x288 with 1 Axes>"
      ]
     },
     "metadata": {
      "needs_background": "light"
     },
     "output_type": "display_data"
    },
    {
     "data": {
      "text/plain": [
       "<matplotlib.collections.PolyCollection at 0x7f11be2bb810>"
      ]
     },
     "execution_count": 28,
     "metadata": {},
     "output_type": "execute_result"
    },
    {
     "data": {
      "image/png": "[encoded data removed]",
      "text/plain": [
       "<Figure size 432x288 with 1 Axes>"
      ]
     },
     "metadata": {
      "needs_background": "light"
     },
     "output_type": "display_data"
    }
   ],
   "source": [
    "allTargetData = np.vstack((training_set, test_pul))\n",
    "training_predicted = regressor.predict(X_train)\n",
    "training_predicted = sc.inverse_transform(training_predicted)\n",
    "allForecastedData = np.vstack((training_set[0:window], training_predicted, predicted))\n",
    "plt.plot(allTargetData, color = 'red', label = 'Data')\n",
    "plt.plot(allForecastedData, color = 'blue', label = 'Prediction')\n",
    "plt.xlabel(\"Time\")\n",
    "plt.ylabel(\"Internet\")\n",
    "plt.title(\"Time Series Prediction\")\n",
    "plt.legend()\n",
    "plt.savefig('predictions_training_test.svg')\n",
    "plt.show()\n",
    "\n",
    "from matplotlib import pyplot as plt\n",
    "import numpy as np\n",
    "\n",
    "#some example data\n",
    "x = np.arange(test_size)\n",
    "# plt.title('Time slot vs mobile traffic')\n",
    "# plt.ylabel('Internet traffic')\n",
    "# plt.grid(True)\n",
    "# plt.autoscale(axis='x', tight=True)\n",
    "# plt.plot(test)\n",
    "# plt.plot(x,predictions)\n",
    "# plt.show()\n",
    "y = predicted.reshape(-1,)\n",
    "#some confidence interval\n",
    "ci = 1.96 * np.std(predicted)/np.sqrt(len(x))\n",
    "\n",
    "fig, ax = plt.subplots()\n",
    "ax.plot(x,test_pul.reshape(-1,),'r')\n",
    "ax.plot(x,y, 'b')\n",
    "ax.fill_between(x, (y-ci), (y+ci), color='b', alpha=.1)"
   ]
  },
  {
   "cell_type": "markdown",
   "metadata": {
    "id": "ytEVhQht4we3"
   },
   "source": [
    "## Part 4 - Evaluation Metrics\n"
   ]
  },
  {
   "cell_type": "code",
   "execution_count": 29,
   "metadata": {
    "colab": {
     "base_uri": "https://localhost:8080/"
    },
    "executionInfo": {
     "elapsed": 4,
     "status": "ok",
     "timestamp": 1654878331170,
     "user": {
      "displayName": "T H Molena",
      "userId": "09778002966791064148"
     },
     "user_tz": 240
    },
    "id": "rqOonVj64ydu",
    "outputId": "cc1871ea-11d1-48db-c775-802a905b2934"
   },
   "outputs": [
    {
     "name": "stdout",
     "output_type": "stream",
     "text": [
      "RMSE:  240.84081711124708\n"
     ]
    }
   ],
   "source": [
    "rmse = math.sqrt(mean_squared_error(test_pul, predicted))\n",
    "print('RMSE: ', rmse)"
   ]
  },
  {
   "cell_type": "code",
   "execution_count": 30,
   "metadata": {
    "colab": {
     "base_uri": "https://localhost:8080/"
    },
    "executionInfo": {
     "elapsed": 23,
     "status": "ok",
     "timestamp": 1654878331551,
     "user": {
      "displayName": "T H Molena",
      "userId": "09778002966791064148"
     },
     "user_tz": 240
    },
    "id": "ODeley1K42WW",
    "outputId": "42deb39b-08aa-41fb-e9df-f460bb3a3b87"
   },
   "outputs": [
    {
     "name": "stdout",
     "output_type": "stream",
     "text": [
      "MSE:  58004.299186813165\n"
     ]
    }
   ],
   "source": [
    "mse = mean_squared_error(test_pul, predicted)\n",
    "print('MSE: ',mse)"
   ]
  },
  {
   "cell_type": "code",
   "execution_count": 31,
   "metadata": {
    "colab": {
     "base_uri": "https://localhost:8080/"
    },
    "executionInfo": {
     "elapsed": 22,
     "status": "ok",
     "timestamp": 1654878331551,
     "user": {
      "displayName": "T H Molena",
      "userId": "09778002966791064148"
     },
     "user_tz": 240
    },
    "id": "L7_uU_8T44QA",
    "outputId": "34eef178-8acb-4ef6-b9ac-efb6428d8c25"
   },
   "outputs": [
    {
     "name": "stdout",
     "output_type": "stream",
     "text": [
      "MAPE:  15.86046469243621 %\n"
     ]
    }
   ],
   "source": [
    "mape = np.mean(np.abs((test_pul - predicted) / test_pul)) * 100\n",
    "print('MAPE: ',mape, '%')"
   ]
  },
  {
   "cell_type": "code",
   "execution_count": 32,
   "metadata": {
    "colab": {
     "base_uri": "https://localhost:8080/"
    },
    "executionInfo": {
     "elapsed": 20,
     "status": "ok",
     "timestamp": 1654878331551,
     "user": {
      "displayName": "T H Molena",
      "userId": "09778002966791064148"
     },
     "user_tz": 240
    },
    "id": "mgmtdSOq7rG0",
    "outputId": "4fa00b21-8fd2-437b-bf00-39c1df9239b3"
   },
   "outputs": [
    {
     "name": "stdout",
     "output_type": "stream",
     "text": [
      "MAE:  164.61025801279695\n"
     ]
    }
   ],
   "source": [
    "mae = mean_absolute_error(test_pul, predicted)\n",
    "print('MAE: ',mae)"
   ]
  },
  {
   "cell_type": "markdown",
   "metadata": {
    "id": "41RYx-Ds328e"
   },
   "source": [
    "### Statistics of the test results."
   ]
  },
  {
   "cell_type": "markdown",
   "metadata": {
    "id": "mcBRpaiKSlr_"
   },
   "source": [
    "Using the mean (predicted)"
   ]
  },
  {
   "cell_type": "code",
   "execution_count": 33,
   "metadata": {
    "colab": {
     "base_uri": "https://localhost:8080/"
    },
    "executionInfo": {
     "elapsed": 18,
     "status": "ok",
     "timestamp": 1654878331551,
     "user": {
      "displayName": "T H Molena",
      "userId": "09778002966791064148"
     },
     "user_tz": 240
    },
    "id": "IIJ7oEuf33Sx",
    "outputId": "2604c17f-dd5f-4b8f-9336-78ffa99b6972"
   },
   "outputs": [
    {
     "name": "stdout",
     "output_type": "stream",
     "text": [
      "Total violations: [455] (67.71% of the test data points)\n"
     ]
    }
   ],
   "source": [
    "# Fraction of under-estimated demands using the mean (predicted)\n",
    "violated = (predicted < test_pul)\n",
    "violations = (test_pul - predicted)[violated]\n",
    "print('Total violations:', sum(violated), '(%.2f%% of the test data points)' % (100*sum(violated)/test_size) )"
   ]
  },
  {
   "cell_type": "code",
   "execution_count": 34,
   "metadata": {
    "colab": {
     "base_uri": "https://localhost:8080/"
    },
    "executionInfo": {
     "elapsed": 18,
     "status": "ok",
     "timestamp": 1654878331552,
     "user": {
      "displayName": "T H Molena",
      "userId": "09778002966791064148"
     },
     "user_tz": 240
    },
    "id": "0GOut1su39SM",
    "outputId": "97f5d63c-35f1-4b2e-91be-55938d6e0f8f"
   },
   "outputs": [
    {
     "name": "stdout",
     "output_type": "stream",
     "text": [
      "Demand mean: 1477.7230073152343\n",
      "Violation mean: 160.27450852502574\n",
      "Violation excess: 10.85%\n"
     ]
    }
   ],
   "source": [
    "print('Demand mean:', np.mean(test_pul))\n",
    "print('Violation mean:', np.mean( violations ) )\n",
    "print('Violation excess: %.2f%%' % (100 * np.mean( violations ) / np.mean(test_pul)) )"
   ]
  },
  {
   "cell_type": "code",
   "execution_count": 34,
   "metadata": {
    "executionInfo": {
     "elapsed": 18,
     "status": "ok",
     "timestamp": 1654878331553,
     "user": {
      "displayName": "T H Molena",
      "userId": "09778002966791064148"
     },
     "user_tz": 240
    },
    "id": "9NPq_AlFO3pr"
   },
   "outputs": [],
   "source": []
  },
  {
   "cell_type": "code",
   "execution_count": 34,
   "metadata": {
    "executionInfo": {
     "elapsed": 18,
     "status": "ok",
     "timestamp": 1654878331553,
     "user": {
      "displayName": "T H Molena",
      "userId": "09778002966791064148"
     },
     "user_tz": 240
    },
    "id": "Wi-HSdV3U_yM"
   },
   "outputs": [],
   "source": []
  },
  {
   "cell_type": "markdown",
   "metadata": {
    "id": "nIzbLpQKSpbU"
   },
   "source": [
    "Using higher 95% confidence interval"
   ]
  },
  {
   "cell_type": "code",
   "execution_count": 35,
   "metadata": {
    "colab": {
     "base_uri": "https://localhost:8080/"
    },
    "executionInfo": {
     "elapsed": 17,
     "status": "ok",
     "timestamp": 1654878331553,
     "user": {
      "displayName": "T H Molena",
      "userId": "09778002966791064148"
     },
     "user_tz": 240
    },
    "id": "NUm0N4VgRypz",
    "outputId": "4d3283a7-81d5-43e1-cbec-08fff8fda10a"
   },
   "outputs": [
    {
     "name": "stdout",
     "output_type": "stream",
     "text": [
      "Total violations: [233] (34.67% of the test data points)\n"
     ]
    }
   ],
   "source": [
    "ninety_fine_ci_higher = (y+ci).reshape(-1,1)\n",
    "# Fraction of under-estimated demands using higher 95% confidence interval\n",
    "violated_higher = (ninety_fine_ci_higher < test_pul)\n",
    "violations_higher = (test_pul - ninety_fine_ci_higher)[violated_higher]\n",
    "print('Total violations:', sum(violated_higher), '(%.2f%% of the test data points)' % (100*sum(violated_higher)/test_size) )"
   ]
  },
  {
   "cell_type": "code",
   "execution_count": 36,
   "metadata": {
    "colab": {
     "base_uri": "https://localhost:8080/"
    },
    "executionInfo": {
     "elapsed": 16,
     "status": "ok",
     "timestamp": 1654878331553,
     "user": {
      "displayName": "T H Molena",
      "userId": "09778002966791064148"
     },
     "user_tz": 240
    },
    "id": "-QnmVsg2RyuA",
    "outputId": "e92fa4dd-88d5-4ae7-9731-6a9cac185f1a"
   },
   "outputs": [
    {
     "name": "stdout",
     "output_type": "stream",
     "text": [
      "Demand mean: 1477.7230073152343\n",
      "Violation mean: 178.54985148462083\n",
      "Violation excess: 12.08%\n"
     ]
    }
   ],
   "source": [
    "print('Demand mean:', np.mean(test_pul))\n",
    "print('Violation mean:', np.mean( violations_higher ) )\n",
    "print('Violation excess: %.2f%%' % (100 * np.mean( violations_higher) / np.mean(test_pul)) )"
   ]
  },
  {
   "cell_type": "code",
   "execution_count": 36,
   "metadata": {
    "executionInfo": {
     "elapsed": 15,
     "status": "ok",
     "timestamp": 1654878331553,
     "user": {
      "displayName": "T H Molena",
      "userId": "09778002966791064148"
     },
     "user_tz": 240
    },
    "id": "ERwDssTiRyxo"
   },
   "outputs": [],
   "source": []
  },
  {
   "cell_type": "code",
   "execution_count": 36,
   "metadata": {
    "executionInfo": {
     "elapsed": 15,
     "status": "ok",
     "timestamp": 1654878331554,
     "user": {
      "displayName": "T H Molena",
      "userId": "09778002966791064148"
     },
     "user_tz": 240
    },
    "id": "YaRq9LAxSylG"
   },
   "outputs": [],
   "source": []
  },
  {
   "cell_type": "markdown",
   "metadata": {
    "id": "lWcYQwAYVD5p"
   },
   "source": [
    "Using lower 95% confidence interval"
   ]
  },
  {
   "cell_type": "code",
   "execution_count": 37,
   "metadata": {
    "colab": {
     "base_uri": "https://localhost:8080/"
    },
    "executionInfo": {
     "elapsed": 14,
     "status": "ok",
     "timestamp": 1654878331554,
     "user": {
      "displayName": "T H Molena",
      "userId": "09778002966791064148"
     },
     "user_tz": 240
    },
    "id": "xWqoLz1bSyqd",
    "outputId": "5769e368-cb14-46bd-ef31-d96340ef7082"
   },
   "outputs": [
    {
     "name": "stdout",
     "output_type": "stream",
     "text": [
      "Total violations: [548] (81.55% of the test data points)\n"
     ]
    }
   ],
   "source": [
    "ninety_fine_ci_lower = (y-ci).reshape(-1,1)\n",
    "# Fraction of under-estimated demands using higher 95% confidence interval\n",
    "violated_lower = (ninety_fine_ci_lower < test_pul)\n",
    "violations_lower = (test_pul - ninety_fine_ci_lower)[violated_lower]\n",
    "print('Total violations:', sum(violated_lower), '(%.2f%% of the test data points)' % (100*sum(violated_lower)/test_size) )"
   ]
  },
  {
   "cell_type": "code",
   "execution_count": 38,
   "metadata": {
    "colab": {
     "base_uri": "https://localhost:8080/"
    },
    "executionInfo": {
     "elapsed": 12,
     "status": "ok",
     "timestamp": 1654878331554,
     "user": {
      "displayName": "T H Molena",
      "userId": "09778002966791064148"
     },
     "user_tz": 240
    },
    "id": "5onfV1qJSyv6",
    "outputId": "e65da42b-0e4a-49a6-dc75-c3e5ecb1a376"
   },
   "outputs": [
    {
     "name": "stdout",
     "output_type": "stream",
     "text": [
      "Demand mean: 1477.7230073152343\n",
      "Violation mean: 214.82445401445366\n",
      "Violation excess: 14.54%\n"
     ]
    }
   ],
   "source": [
    "print('Demand mean:', np.mean(test_pul))\n",
    "print('Violation mean:', np.mean( violations_lower ) )\n",
    "print('Violation excess: %.2f%%' % (100 * np.mean( violations_lower) / np.mean(test_pul)) )"
   ]
  },
  {
   "cell_type": "code",
   "execution_count": 38,
   "metadata": {
    "executionInfo": {
     "elapsed": 10,
     "status": "ok",
     "timestamp": 1654878331554,
     "user": {
      "displayName": "T H Molena",
      "userId": "09778002966791064148"
     },
     "user_tz": 240
    },
    "id": "fP75y6gFVzAY"
   },
   "outputs": [],
   "source": []
  },
  {
   "cell_type": "code",
   "execution_count": 39,
   "metadata": {
    "executionInfo": {
     "elapsed": 10,
     "status": "ok",
     "timestamp": 1654878331554,
     "user": {
      "displayName": "T H Molena",
      "userId": "09778002966791064148"
     },
     "user_tz": 240
    },
    "id": "kBA7eeaRGPU2"
   },
   "outputs": [],
   "source": [
    "# from scipy import stats\n",
    "# from scipy.stats import norm"
   ]
  },
  {
   "cell_type": "code",
   "execution_count": 40,
   "metadata": {
    "executionInfo": {
     "elapsed": 10,
     "status": "ok",
     "timestamp": 1654878331554,
     "user": {
      "displayName": "T H Molena",
      "userId": "09778002966791064148"
     },
     "user_tz": 240
    },
    "id": "humJf0yfGVSB"
   },
   "outputs": [],
   "source": [
    "# ci = stats.norm.interval(0.95,np.mean(predicted),np.std(predicted)/(1738**0.5))\n",
    "# print('95% CI is:',np.round(beml_ci,6))"
   ]
  },
  {
   "cell_type": "code",
   "execution_count": 40,
   "metadata": {
    "executionInfo": {
     "elapsed": 10,
     "status": "ok",
     "timestamp": 1654878331555,
     "user": {
      "displayName": "T H Molena",
      "userId": "09778002966791064148"
     },
     "user_tz": 240
    },
    "id": "EyU-HZjHGZAa"
   },
   "outputs": [],
   "source": []
  },
  {
   "cell_type": "code",
   "execution_count": 36,
   "metadata": {
    "executionInfo": {
     "elapsed": 2,
     "status": "ok",
     "timestamp": 1654875392891,
     "user": {
      "displayName": "T H Molena",
      "userId": "09778002966791064148"
     },
     "user_tz": 240
    },
    "id": "WbquuVwaNNi7"
   },
   "outputs": [],
   "source": []
  },
  {
   "cell_type": "code",
   "execution_count": 36,
   "metadata": {
    "executionInfo": {
     "elapsed": 2,
     "status": "ok",
     "timestamp": 1654875392891,
     "user": {
      "displayName": "T H Molena",
      "userId": "09778002966791064148"
     },
     "user_tz": 240
    },
    "id": "Kui--f1yQEG7"
   },
   "outputs": [],
   "source": []
  }
 ],
 "metadata": {
  "accelerator": "GPU",
  "colab": {
   "collapsed_sections": [],
   "name": "GRU_DropOut.ipynb",
   "provenance": []
  },
  "kernelspec": {
   "display_name": "Matlab",
   "language": "matlab",
   "name": "matlab"
  },
  "language_info": {
   "codemirror_mode": "octave",
   "file_extension": ".m",
   "help_links": [
    {
     "text": "MetaKernel Magics",
     "url": "https://metakernel.readthedocs.io/en/latest/source/README.html"
    }
   ],
   "mimetype": "text/x-octave",
   "name": "matlab",
   "version": "0.17.1"
  }
 },
 "nbformat": 4,
 "nbformat_minor": 4
}
